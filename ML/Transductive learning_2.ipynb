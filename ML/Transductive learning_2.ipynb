{
 "cells": [
  {
   "cell_type": "markdown",
   "metadata": {},
   "source": [
    "# Transductive Learning"
   ]
  },
  {
   "cell_type": "markdown",
   "metadata": {},
   "source": [
    "* Transductive learning (TL) train the model and label the unlabeled data points which have already encountered.\n",
    "\n",
    "* TL does not build a predictive model. If new unlabeled points are encounteredö we will have to rerun the model.\n",
    "\n",
    "* Transductive learning can predict only the points in the encountered testing dataset based on based on the observed training dataset.\n"
   ]
  },
  {
   "cell_type": "markdown",
   "metadata": {},
   "source": [
    "source: https://towardsdatascience.com/a-simple-svm-based-implementation-of-semi-supervised-learning-f44eafb0a970"
   ]
  },
  {
   "cell_type": "markdown",
   "metadata": {},
   "source": [
    "<img src='https://miro.medium.com/max/589/1*Va3RZ9tPKRTmV932Wnvj2w.png' width='400'  align=\"center\">"
   ]
  },
  {
   "cell_type": "markdown",
   "metadata": {},
   "source": [
    "<img src='https://miro.medium.com/max/471/1*1JmNnvBVFYF-elmdHloI3g.png' width='400'  align=\"center\">"
   ]
  },
  {
   "cell_type": "markdown",
   "metadata": {},
   "source": [
    "### Importing the library and the datasets"
   ]
  },
  {
   "cell_type": "code",
   "execution_count": 1,
   "metadata": {},
   "outputs": [],
   "source": [
    "import pandas as pd\n",
    "import numpy as np\n",
    "from sklearn.model_selection import train_test_split\n",
    "from sklearn import svm\n",
    "from sklearn import datasets"
   ]
  },
  {
   "cell_type": "markdown",
   "metadata": {},
   "source": [
    "http://rasbt.github.io/mlxtend/user_guide/data/wine_data/"
   ]
  },
  {
   "cell_type": "code",
   "execution_count": 2,
   "metadata": {},
   "outputs": [
    {
     "data": {
      "text/plain": [
       "array([[1.04 , 3.92 ],\n",
       "       [1.05 , 3.4  ],\n",
       "       [1.03 , 3.17 ],\n",
       "       [0.86 , 3.45 ],\n",
       "       [1.04 , 2.93 ],\n",
       "       [1.05 , 2.85 ],\n",
       "       [1.02 , 3.58 ],\n",
       "       [1.06 , 3.58 ],\n",
       "       [1.08 , 2.85 ],\n",
       "       [1.01 , 3.55 ],\n",
       "       [1.25 , 3.17 ],\n",
       "       [1.17 , 2.82 ],\n",
       "       [1.15 , 2.9  ],\n",
       "       [1.25 , 2.73 ],\n",
       "       [1.2  , 3.   ],\n",
       "       [1.28 , 2.88 ],\n",
       "       [1.07 , 2.65 ],\n",
       "       [1.13 , 2.57 ],\n",
       "       [1.23 , 2.82 ],\n",
       "       [0.96 , 3.36 ],\n",
       "       [1.09 , 3.71 ],\n",
       "       [1.03 , 3.52 ],\n",
       "       [1.11 , 4.   ],\n",
       "       [1.09 , 3.63 ],\n",
       "       [1.12 , 3.82 ],\n",
       "       [1.13 , 3.2  ],\n",
       "       [0.92 , 3.22 ],\n",
       "       [1.02 , 2.77 ],\n",
       "       [1.25 , 3.4  ],\n",
       "       [1.04 , 3.59 ],\n",
       "       [1.19 , 2.71 ],\n",
       "       [1.09 , 2.88 ],\n",
       "       [1.23 , 2.87 ],\n",
       "       [1.25 , 3.   ],\n",
       "       [1.1  , 2.87 ],\n",
       "       [1.04 , 3.47 ],\n",
       "       [1.09 , 2.78 ],\n",
       "       [1.12 , 2.51 ],\n",
       "       [1.18 , 2.69 ],\n",
       "       [0.89 , 3.53 ],\n",
       "       [0.95 , 3.38 ],\n",
       "       [0.91 , 3.   ],\n",
       "       [0.88 , 3.56 ],\n",
       "       [0.82 , 3.   ],\n",
       "       [0.88 , 3.35 ],\n",
       "       [0.87 , 3.33 ],\n",
       "       [1.04 , 3.44 ],\n",
       "       [0.91 , 3.33 ],\n",
       "       [1.07 , 2.75 ],\n",
       "       [1.12 , 3.1  ],\n",
       "       [1.12 , 2.91 ],\n",
       "       [1.24 , 3.37 ],\n",
       "       [1.01 , 3.26 ],\n",
       "       [1.13 , 2.93 ],\n",
       "       [0.92 , 3.2  ],\n",
       "       [0.98 , 3.03 ],\n",
       "       [0.94 , 3.31 ],\n",
       "       [1.07 , 2.84 ],\n",
       "       [0.89 , 2.87 ],\n",
       "       [1.05 , 1.82 ],\n",
       "       [1.25 , 1.67 ],\n",
       "       [0.98 , 1.59 ],\n",
       "       [1.23 , 2.46 ],\n",
       "       [1.22 , 2.87 ],\n",
       "       [1.45 , 2.23 ],\n",
       "       [1.19 , 2.3  ],\n",
       "       [1.12 , 3.18 ],\n",
       "       [1.12 , 3.48 ],\n",
       "       [1.02 , 1.93 ],\n",
       "       [1.28 , 3.07 ],\n",
       "       [0.906, 1.82 ],\n",
       "       [1.36 , 3.16 ],\n",
       "       [0.98 , 2.78 ],\n",
       "       [1.31 , 3.5  ],\n",
       "       [0.99 , 3.13 ],\n",
       "       [1.23 , 2.14 ],\n",
       "       [1.19 , 2.48 ],\n",
       "       [0.96 , 2.52 ],\n",
       "       [1.06 , 2.31 ],\n",
       "       [1.19 , 3.13 ],\n",
       "       [1.38 , 3.12 ],\n",
       "       [1.16 , 3.14 ],\n",
       "       [1.31 , 2.72 ],\n",
       "       [0.84 , 2.01 ],\n",
       "       [0.79 , 3.08 ],\n",
       "       [1.23 , 3.16 ],\n",
       "       [1.33 , 2.26 ],\n",
       "       [1.36 , 3.21 ],\n",
       "       [1.   , 2.75 ],\n",
       "       [1.07 , 3.21 ],\n",
       "       [1.08 , 2.27 ],\n",
       "       [1.05 , 2.65 ],\n",
       "       [0.96 , 2.06 ],\n",
       "       [1.15 , 3.3  ],\n",
       "       [1.16 , 2.96 ],\n",
       "       [1.16 , 2.63 ],\n",
       "       [0.95 , 2.26 ],\n",
       "       [1.23 , 2.74 ],\n",
       "       [1.04 , 2.77 ],\n",
       "       [1.42 , 2.83 ],\n",
       "       [1.27 , 2.96 ],\n",
       "       [1.04 , 2.77 ],\n",
       "       [0.8  , 3.38 ],\n",
       "       [0.94 , 2.44 ],\n",
       "       [1.04 , 3.57 ],\n",
       "       [0.86 , 3.3  ],\n",
       "       [1.   , 3.17 ],\n",
       "       [0.88 , 2.42 ],\n",
       "       [0.86 , 3.02 ],\n",
       "       [0.96 , 3.26 ],\n",
       "       [0.75 , 2.81 ],\n",
       "       [0.9  , 2.78 ],\n",
       "       [1.23 , 2.5  ],\n",
       "       [1.1  , 2.31 ],\n",
       "       [0.93 , 3.19 ],\n",
       "       [1.71 , 2.87 ],\n",
       "       [0.95 , 3.33 ],\n",
       "       [1.06 , 2.96 ],\n",
       "       [0.7  , 2.12 ],\n",
       "       [0.93 , 3.05 ],\n",
       "       [0.8  , 3.39 ],\n",
       "       [0.93 , 3.69 ],\n",
       "       [0.92 , 3.12 ],\n",
       "       [0.73 , 3.1  ],\n",
       "       [0.75 , 3.64 ],\n",
       "       [0.86 , 3.28 ],\n",
       "       [0.69 , 2.84 ],\n",
       "       [0.97 , 2.44 ],\n",
       "       [0.89 , 2.78 ],\n",
       "       [0.79 , 2.57 ],\n",
       "       [0.76 , 1.29 ],\n",
       "       [0.74 , 1.42 ],\n",
       "       [0.66 , 1.36 ],\n",
       "       [0.78 , 1.29 ],\n",
       "       [0.75 , 1.51 ],\n",
       "       [0.73 , 1.58 ],\n",
       "       [0.75 , 1.27 ],\n",
       "       [0.82 , 1.69 ],\n",
       "       [0.81 , 1.82 ],\n",
       "       [0.89 , 2.15 ],\n",
       "       [0.77 , 2.31 ],\n",
       "       [0.7  , 2.47 ],\n",
       "       [0.89 , 2.06 ],\n",
       "       [0.91 , 2.05 ],\n",
       "       [0.65 , 2.   ],\n",
       "       [0.6  , 1.68 ],\n",
       "       [0.58 , 1.33 ],\n",
       "       [0.54 , 1.86 ],\n",
       "       [0.55 , 1.62 ],\n",
       "       [0.57 , 1.33 ],\n",
       "       [0.59 , 1.3  ],\n",
       "       [0.48 , 1.47 ],\n",
       "       [0.61 , 1.33 ],\n",
       "       [0.56 , 1.51 ],\n",
       "       [0.58 , 1.55 ],\n",
       "       [0.6  , 1.48 ],\n",
       "       [0.57 , 1.64 ],\n",
       "       [0.67 , 1.73 ],\n",
       "       [0.57 , 1.96 ],\n",
       "       [0.57 , 1.78 ],\n",
       "       [0.56 , 1.58 ],\n",
       "       [0.96 , 1.82 ],\n",
       "       [0.87 , 2.11 ],\n",
       "       [0.68 , 1.75 ],\n",
       "       [0.7  , 1.68 ],\n",
       "       [0.78 , 1.75 ],\n",
       "       [0.85 , 1.56 ],\n",
       "       [0.72 , 1.75 ],\n",
       "       [0.74 , 1.8  ],\n",
       "       [0.67 , 1.92 ],\n",
       "       [0.66 , 1.83 ],\n",
       "       [0.57 , 1.63 ],\n",
       "       [0.62 , 1.71 ],\n",
       "       [0.64 , 1.74 ],\n",
       "       [0.7  , 1.56 ],\n",
       "       [0.59 , 1.56 ],\n",
       "       [0.6  , 1.62 ],\n",
       "       [0.61 , 1.6  ]])"
      ]
     },
     "execution_count": 2,
     "metadata": {},
     "output_type": "execute_result"
    }
   ],
   "source": [
    "# Samples: 178, Features: 13, Class: 3\n",
    "X, y = datasets.load_wine(return_X_y=True) # Load Wine dataset\n",
    "X = X[:,10:12] # keep only two features for training (Proanthocyanins, Color intensity), \n",
    "# y is the class id (there are 3 classes: 0 (59 samples), 1 (71 samples), 2 (48 samples))\n",
    "X"
   ]
  },
  {
   "cell_type": "markdown",
   "metadata": {},
   "source": [
    "### Dividing the dataset train (labeled), unl(Unlabeled)"
   ]
  },
  {
   "cell_type": "code",
   "execution_count": 3,
   "metadata": {},
   "outputs": [],
   "source": [
    "X_train, X_test, y_train, y_test = train_test_split(X, y, test_size=0.3, random_state=1)# split dataset to train and test data\n",
    "X_train, X_unl, y_train, y_unl = train_test_split(X_train, y_train, test_size=0.7, random_state=1) # split train data to labeled data and unlabeled data\n"
   ]
  },
  {
   "cell_type": "code",
   "execution_count": 4,
   "metadata": {},
   "outputs": [
    {
     "name": "stdout",
     "output_type": "stream",
     "text": [
      "(37, 2)\n",
      "(54, 2)\n",
      "(87, 2)\n"
     ]
    }
   ],
   "source": [
    "print(X_train.shape)\n",
    "print(X_test.shape)\n",
    "print(X_unl.shape)"
   ]
  },
  {
   "cell_type": "markdown",
   "metadata": {},
   "source": [
    "### Training on the labeled set"
   ]
  },
  {
   "cell_type": "markdown",
   "metadata": {},
   "source": [
    "<font size=\"4\"> <font color='royalblue'> __What is Support Vector Machine?__ </font> </font>\n",
    "\n",
    "* The objective of the support vector machine algorithm is to find a hyperplane in an N-dimensional space(N — the number of features) that distinctly classifies the data points.\n",
    "\n",
    "* To separate the two classes of data points, there are many possible hyperplanes that could be chosen. The objective of SVM is to find a plane that has the maximum margin, i.e the maximum distance between data points of both classes. \n",
    "\n",
    "* Maximizing the margin distance provides some reinforcement so that future data points can be classified with more confidence.\n",
    "\n",
    "source: https://towardsdatascience.com/support-vector-machine-introduction-to-machine-learning-algorithms-934a444fca47"
   ]
  },
  {
   "cell_type": "markdown",
   "metadata": {},
   "source": [
    "<img src='https://miro.medium.com/max/600/0*9jEWNXTAao7phK-5.png' width='200'  align=\"center\">\n",
    "<img src='https://miro.medium.com/max/600/0*0o8xIA4k3gXUDCFU.png' width='200'  align=\"center\">"
   ]
  },
  {
   "cell_type": "code",
   "execution_count": 5,
   "metadata": {},
   "outputs": [
    {
     "data": {
      "text/plain": [
       "0.6851851851851852"
      ]
     },
     "execution_count": 5,
     "metadata": {},
     "output_type": "execute_result"
    }
   ],
   "source": [
    "clf = svm.SVC(kernel='linear', probability=True,C=1).fit(X_train, y_train)# use SVM classifier to predict the labels (classes) of the train data\n",
    "acc = clf.score(X_test, y_test)\n",
    "acc"
   ]
  },
  {
   "cell_type": "markdown",
   "metadata": {},
   "source": [
    "### Predict on the unlabeled data"
   ]
  },
  {
   "cell_type": "code",
   "execution_count": 6,
   "metadata": {},
   "outputs": [],
   "source": [
    "clp= clf.predict_proba(X_unl) # extract the predicted probability assigned foreach class \n",
    "lab=clf.predict(X_unl)#  predict the class according to the higenst probability"
   ]
  },
  {
   "cell_type": "code",
   "execution_count": 7,
   "metadata": {},
   "outputs": [],
   "source": [
    "df = pd.DataFrame(clp, columns = ['C1Prob', 'C2Prob','C3Prob']) # for each unlabeled sample, extract the probability assigned for each class\n",
    "df['max']=df[[\"C1Prob\", \"C2Prob\",\"C3Prob\"]].max(axis=1) # extract the highest probability values\n",
    "df['lab']=lab # predicted the classes of the unlabeled data according to the highest probability values. \n",
    "df['actual']=y_unl # ground truth"
   ]
  },
  {
   "cell_type": "code",
   "execution_count": 8,
   "metadata": {},
   "outputs": [
    {
     "data": {
      "text/html": [
       "<div>\n",
       "<style scoped>\n",
       "    .dataframe tbody tr th:only-of-type {\n",
       "        vertical-align: middle;\n",
       "    }\n",
       "\n",
       "    .dataframe tbody tr th {\n",
       "        vertical-align: top;\n",
       "    }\n",
       "\n",
       "    .dataframe thead th {\n",
       "        text-align: right;\n",
       "    }\n",
       "</style>\n",
       "<table border=\"1\" class=\"dataframe\">\n",
       "  <thead>\n",
       "    <tr style=\"text-align: right;\">\n",
       "      <th></th>\n",
       "      <th>C1Prob</th>\n",
       "      <th>C2Prob</th>\n",
       "      <th>C3Prob</th>\n",
       "      <th>max</th>\n",
       "      <th>lab</th>\n",
       "      <th>actual</th>\n",
       "    </tr>\n",
       "  </thead>\n",
       "  <tbody>\n",
       "    <tr>\n",
       "      <td>0</td>\n",
       "      <td>0.563874</td>\n",
       "      <td>0.381664</td>\n",
       "      <td>0.054462</td>\n",
       "      <td>0.563874</td>\n",
       "      <td>1</td>\n",
       "      <td>0</td>\n",
       "    </tr>\n",
       "    <tr>\n",
       "      <td>1</td>\n",
       "      <td>0.061865</td>\n",
       "      <td>0.054491</td>\n",
       "      <td>0.883644</td>\n",
       "      <td>0.883644</td>\n",
       "      <td>2</td>\n",
       "      <td>2</td>\n",
       "    </tr>\n",
       "    <tr>\n",
       "      <td>2</td>\n",
       "      <td>0.467037</td>\n",
       "      <td>0.457587</td>\n",
       "      <td>0.075376</td>\n",
       "      <td>0.467037</td>\n",
       "      <td>1</td>\n",
       "      <td>0</td>\n",
       "    </tr>\n",
       "    <tr>\n",
       "      <td>3</td>\n",
       "      <td>0.289868</td>\n",
       "      <td>0.158459</td>\n",
       "      <td>0.551673</td>\n",
       "      <td>0.551673</td>\n",
       "      <td>2</td>\n",
       "      <td>2</td>\n",
       "    </tr>\n",
       "    <tr>\n",
       "      <td>4</td>\n",
       "      <td>0.490104</td>\n",
       "      <td>0.343825</td>\n",
       "      <td>0.166071</td>\n",
       "      <td>0.490104</td>\n",
       "      <td>1</td>\n",
       "      <td>1</td>\n",
       "    </tr>\n",
       "    <tr>\n",
       "      <td>...</td>\n",
       "      <td>...</td>\n",
       "      <td>...</td>\n",
       "      <td>...</td>\n",
       "      <td>...</td>\n",
       "      <td>...</td>\n",
       "      <td>...</td>\n",
       "    </tr>\n",
       "    <tr>\n",
       "      <td>82</td>\n",
       "      <td>0.110907</td>\n",
       "      <td>0.883948</td>\n",
       "      <td>0.005144</td>\n",
       "      <td>0.883948</td>\n",
       "      <td>0</td>\n",
       "      <td>0</td>\n",
       "    </tr>\n",
       "    <tr>\n",
       "      <td>83</td>\n",
       "      <td>0.023730</td>\n",
       "      <td>0.026267</td>\n",
       "      <td>0.950003</td>\n",
       "      <td>0.950003</td>\n",
       "      <td>2</td>\n",
       "      <td>2</td>\n",
       "    </tr>\n",
       "    <tr>\n",
       "      <td>84</td>\n",
       "      <td>0.514501</td>\n",
       "      <td>0.177224</td>\n",
       "      <td>0.308274</td>\n",
       "      <td>0.514501</td>\n",
       "      <td>1</td>\n",
       "      <td>1</td>\n",
       "    </tr>\n",
       "    <tr>\n",
       "      <td>85</td>\n",
       "      <td>0.373670</td>\n",
       "      <td>0.598724</td>\n",
       "      <td>0.027607</td>\n",
       "      <td>0.598724</td>\n",
       "      <td>1</td>\n",
       "      <td>0</td>\n",
       "    </tr>\n",
       "    <tr>\n",
       "      <td>86</td>\n",
       "      <td>0.513299</td>\n",
       "      <td>0.212968</td>\n",
       "      <td>0.273732</td>\n",
       "      <td>0.513299</td>\n",
       "      <td>1</td>\n",
       "      <td>1</td>\n",
       "    </tr>\n",
       "  </tbody>\n",
       "</table>\n",
       "<p>87 rows × 6 columns</p>\n",
       "</div>"
      ],
      "text/plain": [
       "      C1Prob    C2Prob    C3Prob       max  lab  actual\n",
       "0   0.563874  0.381664  0.054462  0.563874    1       0\n",
       "1   0.061865  0.054491  0.883644  0.883644    2       2\n",
       "2   0.467037  0.457587  0.075376  0.467037    1       0\n",
       "3   0.289868  0.158459  0.551673  0.551673    2       2\n",
       "4   0.490104  0.343825  0.166071  0.490104    1       1\n",
       "..       ...       ...       ...       ...  ...     ...\n",
       "82  0.110907  0.883948  0.005144  0.883948    0       0\n",
       "83  0.023730  0.026267  0.950003  0.950003    2       2\n",
       "84  0.514501  0.177224  0.308274  0.514501    1       1\n",
       "85  0.373670  0.598724  0.027607  0.598724    1       0\n",
       "86  0.513299  0.212968  0.273732  0.513299    1       1\n",
       "\n",
       "[87 rows x 6 columns]"
      ]
     },
     "execution_count": 8,
     "metadata": {},
     "output_type": "execute_result"
    }
   ],
   "source": [
    "df"
   ]
  },
  {
   "cell_type": "code",
   "execution_count": 9,
   "metadata": {},
   "outputs": [],
   "source": [
    "nc=np.arange(0.98,.33,-.03)# create a set of threshold (22 values)"
   ]
  },
  {
   "cell_type": "code",
   "execution_count": 10,
   "metadata": {},
   "outputs": [
    {
     "data": {
      "text/plain": [
       "array([0.98, 0.95, 0.92, 0.89, 0.86, 0.83, 0.8 , 0.77, 0.74, 0.71, 0.68,\n",
       "       0.65, 0.62, 0.59, 0.56, 0.53, 0.5 , 0.47, 0.44, 0.41, 0.38, 0.35])"
      ]
     },
     "execution_count": 10,
     "metadata": {},
     "output_type": "execute_result"
    }
   ],
   "source": [
    "nc"
   ]
  },
  {
   "cell_type": "code",
   "execution_count": 11,
   "metadata": {},
   "outputs": [],
   "source": [
    "acc=np.empty(22)\n",
    "acc\n",
    "i=0\n",
    "for k in np.nditer(nc): # confidence interval\n",
    "    conf_ind=df[\"max\"]>k # conf_ind takes all samples having probabilities higher than the threshold k \n",
    "    X_train1 = np.append(X_train,X_unl[conf_ind,:],axis=0) # add the chosen unlabed data to the new training X list\n",
    "    y_train1 = np.append(y_train,df.loc[conf_ind,['lab']]) # add the labels of the chosen unlabed data to the new training Y list\n",
    "    clf = svm.SVC(kernel='linear', probability=True,C=1).fit(X_train1, y_train1)# retrain the SVM classifier using the new dataset\n",
    "    acc[i]=  clf.score(X_test, y_test)#  accuracy list wher each element is attained using labeled data + unlabeled data with probabilities higher than the threshold k\n",
    "    i = i + 1\n",
    "    acc=np.empty(22)\n",
    "\n",
    "i=0\n",
    "\n",
    "for k in np.nditer(nc): # confidence interval\n",
    "\n",
    "    conf_ind=df[\"max\"]>k # conf_ind takes all samples having probabilities higher than the threshold k \n",
    "\n",
    "    X_train1 = np.append(X_train,X_unl[conf_ind,:],axis=0) # add the chosen unlabed data to the new training X list\n",
    "\n",
    "    y_train1 = np.append(y_train,df.loc[conf_ind,['lab']]) # add the labels of the chosen unlabed data to the new training Y list\n",
    "\n",
    "    clf = svm.SVC(kernel='linear', probability=True,C=1).fit(X_train1, y_train1)# retrain the SVM classifier using the new dataset\n",
    "\n",
    "    acc[i]=  clf.score(X_test, y_test)#  accuracy list wher each element is attained using labeled data + unlabeled data with probabilities higher than the threshold k\n",
    "\n",
    "    i = i + 1"
   ]
  },
  {
   "cell_type": "code",
   "execution_count": 12,
   "metadata": {},
   "outputs": [
    {
     "data": {
      "text/plain": [
       "array([0.68518519, 0.68518519, 0.68518519, 0.68518519, 0.66666667,\n",
       "       0.64814815, 0.68518519, 0.72222222, 0.74074074, 0.75925926,\n",
       "       0.7037037 , 0.7037037 , 0.7037037 , 0.62962963, 0.66666667,\n",
       "       0.68518519, 0.68518519, 0.68518519, 0.68518519, 0.68518519,\n",
       "       0.68518519, 0.68518519])"
      ]
     },
     "execution_count": 12,
     "metadata": {},
     "output_type": "execute_result"
    }
   ],
   "source": [
    "acc"
   ]
  },
  {
   "cell_type": "code",
   "execution_count": 13,
   "metadata": {},
   "outputs": [
    {
     "data": {
      "text/plain": [
       "0.6851851851851852"
      ]
     },
     "execution_count": 13,
     "metadata": {},
     "output_type": "execute_result"
    }
   ],
   "source": [
    "conf_ind2=df[\"max\"]>0.9\n",
    "X_train2 = np.append(X_train,X_unl[conf_ind2,:],axis=0)\n",
    "y_train2 = np.append(y_train,df.loc[conf_ind2,['lab']])\n",
    "clf2 = svm.SVC(kernel='linear', probability=True,C=1).fit(X_train2, y_train2)\n",
    "acc_2 =  clf2.score(X_test, y_test)\n",
    "acc_2"
   ]
  },
  {
   "cell_type": "code",
   "execution_count": 14,
   "metadata": {},
   "outputs": [
    {
     "data": {
      "text/plain": [
       "0.6666666666666666"
      ]
     },
     "execution_count": 14,
     "metadata": {},
     "output_type": "execute_result"
    }
   ],
   "source": [
    "conf_ind3=df[\"max\"]>0.55\n",
    "X_train3 = np.append(X_train,X_unl[conf_ind3,:],axis=0)\n",
    "y_train3 = np.append(y_train,df.loc[conf_ind3,['lab']])\n",
    "clf3 = svm.SVC(kernel='linear', probability=True,C=1).fit(X_train3, y_train3)\n",
    "acc_3 =  clf3.score(X_test, y_test)\n",
    "acc_3"
   ]
  },
  {
   "cell_type": "code",
   "execution_count": 16,
   "metadata": {},
   "outputs": [
    {
     "data": {
      "text/plain": [
       "0.7592592592592593"
      ]
     },
     "execution_count": 16,
     "metadata": {},
     "output_type": "execute_result"
    }
   ],
   "source": [
    "conf_ind4=df[\"max\"]>0.71\n",
    "X_train4 = np.append(X_train,X_unl[conf_ind4,:],axis=0)\n",
    "y_train4 = np.append(y_train,df.loc[conf_ind4,['lab']])\n",
    "clf4 = svm.SVC(kernel='linear', probability=True,C=1).fit(X_train4, y_train4)\n",
    "acc_4 =  clf4.score(X_test, y_test)\n",
    "acc_4"
   ]
  }
 ],
 "metadata": {
  "kernelspec": {
   "display_name": "Python 3",
   "language": "python",
   "name": "python3"
  },
  "language_info": {
   "codemirror_mode": {
    "name": "ipython",
    "version": 3
   },
   "file_extension": ".py",
   "mimetype": "text/x-python",
   "name": "python",
   "nbconvert_exporter": "python",
   "pygments_lexer": "ipython3",
   "version": "3.7.4"
  }
 },
 "nbformat": 4,
 "nbformat_minor": 4
}
