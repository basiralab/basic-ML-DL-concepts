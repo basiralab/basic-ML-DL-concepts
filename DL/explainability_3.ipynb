{
 "cells": [
  {
   "cell_type": "markdown",
   "id": "advance-citizenship",
   "metadata": {},
   "source": [
    "# Explainability"
   ]
  },
  {
   "cell_type": "markdown",
   "id": "catholic-retention",
   "metadata": {},
   "source": [
    "This Jupyter notebook details <b>*Layer Conductance*</b>, one of the <b>*layer attribution*</b> methods in explainability of deep learning frameworks. <br>\n",
    "The notebook was prepared by <i>Mohammed Amine Gharsallaoui</i>, researcher at BASIRA lab, ITU: http://basira-lab.com/ <br>\n",
    "You can find other interesting projects in the github reprository of BASIRA: https://github.com/basiralab <br>\n",
    "The topics covered in this notebook are: <br>\n",
    "1. Data cleaning <br>\n",
    "2. Model training <br>\n",
    "3. Layer Conductance in Captum <br>\n",
    "\n",
    "<b> Resources </b>: <br>\n",
    "https://arxiv.org/abs/1805.12233 <br>\n",
    "https://captum.ai/tutorials/Titanic_Basic_Interpret <br>\n",
    "https://www.youtube.com/watch?v=9AaDc35JYiI<br>"
   ]
  },
  {
   "cell_type": "markdown",
   "id": "13ad7a07",
   "metadata": {},
   "source": [
    "After evaluating the attribution of input features to the prediction in the last notebook, here, we are interested in evaluating the importance of the hidden units in a deep network's layers. Layer attribution allows us to understand the importance of neurons in the prediction of a given deep network model. As an example, we will be using Layer Conductance, one of the Layer Attribution methods implemented in Captum, which is an extension of Integrated Gradients applied to hidden neurons. <br>\n",
    "\n",
    "We consider the straightline path (in $\\mathbb{R}^n$) from the baseline $x'$ to the input $x$, and compute the gradients at all points along the path. The function $F$ varies from a near zero value for the informationless baseline to its final value. The gradients of $F$ with respect to the image pixels explain each step of the variation in the value of $F$. The integration (sum) over the gradients cumulates these micro explanations and accounts for the net difference between the baseline prediction score (near zero) and the prediction value at the input $x$.\n",
    "Along the $i^{th}$ dimension in the input space, the integrated gradients function is computed this way: <br>\n",
    "$IG_i(x, x') = (x_i - x'_i) \\cdot \\int_{\\alpha =0}^{1} \\frac{\\partial F(x'+\\alpha(x-x'))}{\\partial x_i}d\\alpha$ <br>\n",
    "<br> where $F: \\mathbb{R}^n \\rightarrow [0, 1]$ is the deep network, $x \\in R^{n}$ is the input sample, $x' \\in R^{n}$ is the baseline sample and $\\frac{\\partial F(x)}{\\partial x_i}$ is the gradient of $F$ along the $i^{th}$ dimension of $x$. For text models, the baseline could be the zero embedding vector, while for image networks, it could be the black image. <br>\n",
    "\n",
    "We can notice that Integrated Gradients produces attributions for base features (e.g. the pixels of an object\n",
    "recognition network). With the conductance, there is an intuitive way to ‘lift’ these attributions to a neuron in a hidden layer of the deep network. Here, we define the conductance:\n",
    "\n",
    "<br>\n",
    "$Cond^y_i(x) = (x_i - x'_i) \\cdot \\int_{\\alpha = 0}^{1} \\frac{\\partial F(x'+\\alpha(x-x'))}{\\partial y} \\cdot \\frac{\\partial y}{\\partial x_i} d\\alpha$\n",
    "\n",
    "<br>\n",
    "$Cond^y(x) = \\sum_i(x_i - x'_i) \\cdot \\int_{\\alpha = 0}^{1} \\frac{\\partial F(x'+\\alpha(x-x'))}{\\partial y} \\cdot \\frac{\\partial y}{\\partial x_i} d\\alpha$\n",
    "\n",
    "<br> where $y$ is the hidden neuron in the deep network.\n",
    "\n",
    "\n",
    "<br>\n",
    "\n"
   ]
  },
  {
   "cell_type": "markdown",
   "id": "825dd3b0",
   "metadata": {},
   "source": [
    "To view the source code of layer conductance, please visit: <br>\n",
    "https://captum.ai/api/_modules/captum/attr/_core/layer/layer_conductance.html#LayerConductance"
   ]
  },
  {
   "cell_type": "markdown",
   "id": "signal-response",
   "metadata": {},
   "source": [
    "# Import section"
   ]
  },
  {
   "cell_type": "code",
   "execution_count": 1,
   "id": "failing-hopkins",
   "metadata": {},
   "outputs": [
    {
     "data": {
      "text/plain": [
       "<torch._C.Generator at 0x1a4bb13a9f0>"
      ]
     },
     "execution_count": 1,
     "metadata": {},
     "output_type": "execute_result"
    }
   ],
   "source": [
    "import numpy as np\n",
    "from scipy import stats\n",
    "import torch\n",
    "import torch.nn as nn\n",
    "import pandas as pd\n",
    "from captum.attr import IntegratedGradients\n",
    "from captum.attr import LayerConductance\n",
    "from captum.attr import NeuronConductance\n",
    "import matplotlib\n",
    "import matplotlib.pyplot as plt\n",
    "%matplotlib inline\n",
    "\n",
    "# Fix seeds for reproducibility.\n",
    "np.random.seed(131254)\n",
    "torch.manual_seed(1)  "
   ]
  },
  {
   "cell_type": "markdown",
   "id": "ebe9c280",
   "metadata": {},
   "source": [
    "# 1. Data processing"
   ]
  },
  {
   "cell_type": "markdown",
   "id": "874b3239",
   "metadata": {},
   "source": [
    "In the following dataset, we import the <b>*titanic*</b> dataset.\n",
    "This dataset contains data for 891 of the real Titanic passengers. Each row represents one person. The columns describe different attributes about the person. The provided features are:<br>\n",
    "-<b>Survived</b>: Survival (0 = No; 1 = Yes)<br>\n",
    "-<b>Pclass</b>: Passenger Class (1 = 1st; 2 = 2nd; 3 = 3rd) (a proxy for socio-economic class)<br>\n",
    "-<b>Name</b>: Full name<br>\n",
    "-<b>Sex</b>: Male or female<br>\n",
    "-<b>Age</b>: Age in years<br>\n",
    "-<b>SibSp</b>: Number of Siblings/Spouses Aboard<br>\n",
    "-<b>Parch</b>: Number of Parents/Children Aboard<br>\n",
    "-<b>Ticket</b>: Ticket Number<br>\n",
    "-<b>Fare</b>: Passenger Fare (British pound)<br>\n",
    "-<b>Cabin</b>: Cabin<br>\n",
    "-<b>Embarked</b>: Port of Embarkation (C = Cherbourg; Q = Queenstown; S = Southampton)"
   ]
  },
  {
   "cell_type": "code",
   "execution_count": 2,
   "id": "educated-hardware",
   "metadata": {},
   "outputs": [
    {
     "data": {
      "text/html": [
       "<div>\n",
       "<style scoped>\n",
       "    .dataframe tbody tr th:only-of-type {\n",
       "        vertical-align: middle;\n",
       "    }\n",
       "\n",
       "    .dataframe tbody tr th {\n",
       "        vertical-align: top;\n",
       "    }\n",
       "\n",
       "    .dataframe thead th {\n",
       "        text-align: right;\n",
       "    }\n",
       "</style>\n",
       "<table border=\"1\" class=\"dataframe\">\n",
       "  <thead>\n",
       "    <tr style=\"text-align: right;\">\n",
       "      <th></th>\n",
       "      <th>PassengerId</th>\n",
       "      <th>Survived</th>\n",
       "      <th>Pclass</th>\n",
       "      <th>Name</th>\n",
       "      <th>Sex</th>\n",
       "      <th>Age</th>\n",
       "      <th>SibSp</th>\n",
       "      <th>Parch</th>\n",
       "      <th>Ticket</th>\n",
       "      <th>Fare</th>\n",
       "      <th>Cabin</th>\n",
       "      <th>Embarked</th>\n",
       "    </tr>\n",
       "  </thead>\n",
       "  <tbody>\n",
       "    <tr>\n",
       "      <th>0</th>\n",
       "      <td>1</td>\n",
       "      <td>0</td>\n",
       "      <td>3</td>\n",
       "      <td>Braund, Mr. Owen Harris</td>\n",
       "      <td>male</td>\n",
       "      <td>22.0</td>\n",
       "      <td>1</td>\n",
       "      <td>0</td>\n",
       "      <td>A/5 21171</td>\n",
       "      <td>7.2500</td>\n",
       "      <td>NaN</td>\n",
       "      <td>S</td>\n",
       "    </tr>\n",
       "    <tr>\n",
       "      <th>1</th>\n",
       "      <td>2</td>\n",
       "      <td>1</td>\n",
       "      <td>1</td>\n",
       "      <td>Cumings, Mrs. John Bradley (Florence Briggs Th...</td>\n",
       "      <td>female</td>\n",
       "      <td>38.0</td>\n",
       "      <td>1</td>\n",
       "      <td>0</td>\n",
       "      <td>PC 17599</td>\n",
       "      <td>71.2833</td>\n",
       "      <td>C85</td>\n",
       "      <td>C</td>\n",
       "    </tr>\n",
       "    <tr>\n",
       "      <th>2</th>\n",
       "      <td>3</td>\n",
       "      <td>1</td>\n",
       "      <td>3</td>\n",
       "      <td>Heikkinen, Miss. Laina</td>\n",
       "      <td>female</td>\n",
       "      <td>26.0</td>\n",
       "      <td>0</td>\n",
       "      <td>0</td>\n",
       "      <td>STON/O2. 3101282</td>\n",
       "      <td>7.9250</td>\n",
       "      <td>NaN</td>\n",
       "      <td>S</td>\n",
       "    </tr>\n",
       "    <tr>\n",
       "      <th>3</th>\n",
       "      <td>4</td>\n",
       "      <td>1</td>\n",
       "      <td>1</td>\n",
       "      <td>Futrelle, Mrs. Jacques Heath (Lily May Peel)</td>\n",
       "      <td>female</td>\n",
       "      <td>35.0</td>\n",
       "      <td>1</td>\n",
       "      <td>0</td>\n",
       "      <td>113803</td>\n",
       "      <td>53.1000</td>\n",
       "      <td>C123</td>\n",
       "      <td>S</td>\n",
       "    </tr>\n",
       "    <tr>\n",
       "      <th>4</th>\n",
       "      <td>5</td>\n",
       "      <td>0</td>\n",
       "      <td>3</td>\n",
       "      <td>Allen, Mr. William Henry</td>\n",
       "      <td>male</td>\n",
       "      <td>35.0</td>\n",
       "      <td>0</td>\n",
       "      <td>0</td>\n",
       "      <td>373450</td>\n",
       "      <td>8.0500</td>\n",
       "      <td>NaN</td>\n",
       "      <td>S</td>\n",
       "    </tr>\n",
       "    <tr>\n",
       "      <th>...</th>\n",
       "      <td>...</td>\n",
       "      <td>...</td>\n",
       "      <td>...</td>\n",
       "      <td>...</td>\n",
       "      <td>...</td>\n",
       "      <td>...</td>\n",
       "      <td>...</td>\n",
       "      <td>...</td>\n",
       "      <td>...</td>\n",
       "      <td>...</td>\n",
       "      <td>...</td>\n",
       "      <td>...</td>\n",
       "    </tr>\n",
       "    <tr>\n",
       "      <th>886</th>\n",
       "      <td>887</td>\n",
       "      <td>0</td>\n",
       "      <td>2</td>\n",
       "      <td>Montvila, Rev. Juozas</td>\n",
       "      <td>male</td>\n",
       "      <td>27.0</td>\n",
       "      <td>0</td>\n",
       "      <td>0</td>\n",
       "      <td>211536</td>\n",
       "      <td>13.0000</td>\n",
       "      <td>NaN</td>\n",
       "      <td>S</td>\n",
       "    </tr>\n",
       "    <tr>\n",
       "      <th>887</th>\n",
       "      <td>888</td>\n",
       "      <td>1</td>\n",
       "      <td>1</td>\n",
       "      <td>Graham, Miss. Margaret Edith</td>\n",
       "      <td>female</td>\n",
       "      <td>19.0</td>\n",
       "      <td>0</td>\n",
       "      <td>0</td>\n",
       "      <td>112053</td>\n",
       "      <td>30.0000</td>\n",
       "      <td>B42</td>\n",
       "      <td>S</td>\n",
       "    </tr>\n",
       "    <tr>\n",
       "      <th>888</th>\n",
       "      <td>889</td>\n",
       "      <td>0</td>\n",
       "      <td>3</td>\n",
       "      <td>Johnston, Miss. Catherine Helen \"Carrie\"</td>\n",
       "      <td>female</td>\n",
       "      <td>NaN</td>\n",
       "      <td>1</td>\n",
       "      <td>2</td>\n",
       "      <td>W./C. 6607</td>\n",
       "      <td>23.4500</td>\n",
       "      <td>NaN</td>\n",
       "      <td>S</td>\n",
       "    </tr>\n",
       "    <tr>\n",
       "      <th>889</th>\n",
       "      <td>890</td>\n",
       "      <td>1</td>\n",
       "      <td>1</td>\n",
       "      <td>Behr, Mr. Karl Howell</td>\n",
       "      <td>male</td>\n",
       "      <td>26.0</td>\n",
       "      <td>0</td>\n",
       "      <td>0</td>\n",
       "      <td>111369</td>\n",
       "      <td>30.0000</td>\n",
       "      <td>C148</td>\n",
       "      <td>C</td>\n",
       "    </tr>\n",
       "    <tr>\n",
       "      <th>890</th>\n",
       "      <td>891</td>\n",
       "      <td>0</td>\n",
       "      <td>3</td>\n",
       "      <td>Dooley, Mr. Patrick</td>\n",
       "      <td>male</td>\n",
       "      <td>32.0</td>\n",
       "      <td>0</td>\n",
       "      <td>0</td>\n",
       "      <td>370376</td>\n",
       "      <td>7.7500</td>\n",
       "      <td>NaN</td>\n",
       "      <td>Q</td>\n",
       "    </tr>\n",
       "  </tbody>\n",
       "</table>\n",
       "<p>891 rows × 12 columns</p>\n",
       "</div>"
      ],
      "text/plain": [
       "     PassengerId  Survived  Pclass  \\\n",
       "0              1         0       3   \n",
       "1              2         1       1   \n",
       "2              3         1       3   \n",
       "3              4         1       1   \n",
       "4              5         0       3   \n",
       "..           ...       ...     ...   \n",
       "886          887         0       2   \n",
       "887          888         1       1   \n",
       "888          889         0       3   \n",
       "889          890         1       1   \n",
       "890          891         0       3   \n",
       "\n",
       "                                                  Name     Sex   Age  SibSp  \\\n",
       "0                              Braund, Mr. Owen Harris    male  22.0      1   \n",
       "1    Cumings, Mrs. John Bradley (Florence Briggs Th...  female  38.0      1   \n",
       "2                               Heikkinen, Miss. Laina  female  26.0      0   \n",
       "3         Futrelle, Mrs. Jacques Heath (Lily May Peel)  female  35.0      1   \n",
       "4                             Allen, Mr. William Henry    male  35.0      0   \n",
       "..                                                 ...     ...   ...    ...   \n",
       "886                              Montvila, Rev. Juozas    male  27.0      0   \n",
       "887                       Graham, Miss. Margaret Edith  female  19.0      0   \n",
       "888           Johnston, Miss. Catherine Helen \"Carrie\"  female   NaN      1   \n",
       "889                              Behr, Mr. Karl Howell    male  26.0      0   \n",
       "890                                Dooley, Mr. Patrick    male  32.0      0   \n",
       "\n",
       "     Parch            Ticket     Fare Cabin Embarked  \n",
       "0        0         A/5 21171   7.2500   NaN        S  \n",
       "1        0          PC 17599  71.2833   C85        C  \n",
       "2        0  STON/O2. 3101282   7.9250   NaN        S  \n",
       "3        0            113803  53.1000  C123        S  \n",
       "4        0            373450   8.0500   NaN        S  \n",
       "..     ...               ...      ...   ...      ...  \n",
       "886      0            211536  13.0000   NaN        S  \n",
       "887      0            112053  30.0000   B42        S  \n",
       "888      2        W./C. 6607  23.4500   NaN        S  \n",
       "889      0            111369  30.0000  C148        C  \n",
       "890      0            370376   7.7500   NaN        Q  \n",
       "\n",
       "[891 rows x 12 columns]"
      ]
     },
     "execution_count": 2,
     "metadata": {},
     "output_type": "execute_result"
    }
   ],
   "source": [
    "dataset_path = \"titanic.csv\"\n",
    "titanic_data = pd.read_csv(dataset_path)\n",
    "titanic_data"
   ]
  },
  {
   "cell_type": "markdown",
   "id": "08c21599",
   "metadata": {},
   "source": [
    "Here, we do some data cleaning: <br>\n",
    "- Remove the irrelevant features. <br>\n",
    "- Convert the categorical vectors into one-hot encodings. <br>\n",
    "- Fill the missing values."
   ]
  },
  {
   "cell_type": "code",
   "execution_count": 3,
   "id": "specified-slave",
   "metadata": {},
   "outputs": [],
   "source": [
    "titanic_data = pd.concat([titanic_data,\n",
    "                          pd.get_dummies(titanic_data['Sex']),\n",
    "                          pd.get_dummies(titanic_data['Embarked'],prefix=\"embark\"),\n",
    "                          pd.get_dummies(titanic_data['Pclass'],prefix=\"class\")], axis=1)\n",
    "titanic_data[\"Age\"] = titanic_data[\"Age\"].fillna(titanic_data[\"Age\"].mean())\n",
    "titanic_data[\"Fare\"] = titanic_data[\"Fare\"].fillna(titanic_data[\"Fare\"].mean())\n",
    "#titanic_data = titanic_data.drop(['name','ticket','cabin','boat','body','home.dest','sex','embarked','pclass'], axis=1)\n",
    "titanic_data = titanic_data.drop(['PassengerId','Name','Ticket','Cabin','Sex','Embarked','Pclass'], axis=1)"
   ]
  },
  {
   "cell_type": "code",
   "execution_count": 4,
   "id": "179a6be1",
   "metadata": {},
   "outputs": [
    {
     "data": {
      "text/html": [
       "<div>\n",
       "<style scoped>\n",
       "    .dataframe tbody tr th:only-of-type {\n",
       "        vertical-align: middle;\n",
       "    }\n",
       "\n",
       "    .dataframe tbody tr th {\n",
       "        vertical-align: top;\n",
       "    }\n",
       "\n",
       "    .dataframe thead th {\n",
       "        text-align: right;\n",
       "    }\n",
       "</style>\n",
       "<table border=\"1\" class=\"dataframe\">\n",
       "  <thead>\n",
       "    <tr style=\"text-align: right;\">\n",
       "      <th></th>\n",
       "      <th>Survived</th>\n",
       "      <th>Age</th>\n",
       "      <th>SibSp</th>\n",
       "      <th>Parch</th>\n",
       "      <th>Fare</th>\n",
       "      <th>female</th>\n",
       "      <th>male</th>\n",
       "      <th>embark_C</th>\n",
       "      <th>embark_Q</th>\n",
       "      <th>embark_S</th>\n",
       "      <th>class_1</th>\n",
       "      <th>class_2</th>\n",
       "      <th>class_3</th>\n",
       "    </tr>\n",
       "  </thead>\n",
       "  <tbody>\n",
       "    <tr>\n",
       "      <th>0</th>\n",
       "      <td>0</td>\n",
       "      <td>22.000000</td>\n",
       "      <td>1</td>\n",
       "      <td>0</td>\n",
       "      <td>7.2500</td>\n",
       "      <td>0</td>\n",
       "      <td>1</td>\n",
       "      <td>0</td>\n",
       "      <td>0</td>\n",
       "      <td>1</td>\n",
       "      <td>0</td>\n",
       "      <td>0</td>\n",
       "      <td>1</td>\n",
       "    </tr>\n",
       "    <tr>\n",
       "      <th>1</th>\n",
       "      <td>1</td>\n",
       "      <td>38.000000</td>\n",
       "      <td>1</td>\n",
       "      <td>0</td>\n",
       "      <td>71.2833</td>\n",
       "      <td>1</td>\n",
       "      <td>0</td>\n",
       "      <td>1</td>\n",
       "      <td>0</td>\n",
       "      <td>0</td>\n",
       "      <td>1</td>\n",
       "      <td>0</td>\n",
       "      <td>0</td>\n",
       "    </tr>\n",
       "    <tr>\n",
       "      <th>2</th>\n",
       "      <td>1</td>\n",
       "      <td>26.000000</td>\n",
       "      <td>0</td>\n",
       "      <td>0</td>\n",
       "      <td>7.9250</td>\n",
       "      <td>1</td>\n",
       "      <td>0</td>\n",
       "      <td>0</td>\n",
       "      <td>0</td>\n",
       "      <td>1</td>\n",
       "      <td>0</td>\n",
       "      <td>0</td>\n",
       "      <td>1</td>\n",
       "    </tr>\n",
       "    <tr>\n",
       "      <th>3</th>\n",
       "      <td>1</td>\n",
       "      <td>35.000000</td>\n",
       "      <td>1</td>\n",
       "      <td>0</td>\n",
       "      <td>53.1000</td>\n",
       "      <td>1</td>\n",
       "      <td>0</td>\n",
       "      <td>0</td>\n",
       "      <td>0</td>\n",
       "      <td>1</td>\n",
       "      <td>1</td>\n",
       "      <td>0</td>\n",
       "      <td>0</td>\n",
       "    </tr>\n",
       "    <tr>\n",
       "      <th>4</th>\n",
       "      <td>0</td>\n",
       "      <td>35.000000</td>\n",
       "      <td>0</td>\n",
       "      <td>0</td>\n",
       "      <td>8.0500</td>\n",
       "      <td>0</td>\n",
       "      <td>1</td>\n",
       "      <td>0</td>\n",
       "      <td>0</td>\n",
       "      <td>1</td>\n",
       "      <td>0</td>\n",
       "      <td>0</td>\n",
       "      <td>1</td>\n",
       "    </tr>\n",
       "    <tr>\n",
       "      <th>...</th>\n",
       "      <td>...</td>\n",
       "      <td>...</td>\n",
       "      <td>...</td>\n",
       "      <td>...</td>\n",
       "      <td>...</td>\n",
       "      <td>...</td>\n",
       "      <td>...</td>\n",
       "      <td>...</td>\n",
       "      <td>...</td>\n",
       "      <td>...</td>\n",
       "      <td>...</td>\n",
       "      <td>...</td>\n",
       "      <td>...</td>\n",
       "    </tr>\n",
       "    <tr>\n",
       "      <th>886</th>\n",
       "      <td>0</td>\n",
       "      <td>27.000000</td>\n",
       "      <td>0</td>\n",
       "      <td>0</td>\n",
       "      <td>13.0000</td>\n",
       "      <td>0</td>\n",
       "      <td>1</td>\n",
       "      <td>0</td>\n",
       "      <td>0</td>\n",
       "      <td>1</td>\n",
       "      <td>0</td>\n",
       "      <td>1</td>\n",
       "      <td>0</td>\n",
       "    </tr>\n",
       "    <tr>\n",
       "      <th>887</th>\n",
       "      <td>1</td>\n",
       "      <td>19.000000</td>\n",
       "      <td>0</td>\n",
       "      <td>0</td>\n",
       "      <td>30.0000</td>\n",
       "      <td>1</td>\n",
       "      <td>0</td>\n",
       "      <td>0</td>\n",
       "      <td>0</td>\n",
       "      <td>1</td>\n",
       "      <td>1</td>\n",
       "      <td>0</td>\n",
       "      <td>0</td>\n",
       "    </tr>\n",
       "    <tr>\n",
       "      <th>888</th>\n",
       "      <td>0</td>\n",
       "      <td>29.699118</td>\n",
       "      <td>1</td>\n",
       "      <td>2</td>\n",
       "      <td>23.4500</td>\n",
       "      <td>1</td>\n",
       "      <td>0</td>\n",
       "      <td>0</td>\n",
       "      <td>0</td>\n",
       "      <td>1</td>\n",
       "      <td>0</td>\n",
       "      <td>0</td>\n",
       "      <td>1</td>\n",
       "    </tr>\n",
       "    <tr>\n",
       "      <th>889</th>\n",
       "      <td>1</td>\n",
       "      <td>26.000000</td>\n",
       "      <td>0</td>\n",
       "      <td>0</td>\n",
       "      <td>30.0000</td>\n",
       "      <td>0</td>\n",
       "      <td>1</td>\n",
       "      <td>1</td>\n",
       "      <td>0</td>\n",
       "      <td>0</td>\n",
       "      <td>1</td>\n",
       "      <td>0</td>\n",
       "      <td>0</td>\n",
       "    </tr>\n",
       "    <tr>\n",
       "      <th>890</th>\n",
       "      <td>0</td>\n",
       "      <td>32.000000</td>\n",
       "      <td>0</td>\n",
       "      <td>0</td>\n",
       "      <td>7.7500</td>\n",
       "      <td>0</td>\n",
       "      <td>1</td>\n",
       "      <td>0</td>\n",
       "      <td>1</td>\n",
       "      <td>0</td>\n",
       "      <td>0</td>\n",
       "      <td>0</td>\n",
       "      <td>1</td>\n",
       "    </tr>\n",
       "  </tbody>\n",
       "</table>\n",
       "<p>891 rows × 13 columns</p>\n",
       "</div>"
      ],
      "text/plain": [
       "     Survived        Age  SibSp  Parch     Fare  female  male  embark_C  \\\n",
       "0           0  22.000000      1      0   7.2500       0     1         0   \n",
       "1           1  38.000000      1      0  71.2833       1     0         1   \n",
       "2           1  26.000000      0      0   7.9250       1     0         0   \n",
       "3           1  35.000000      1      0  53.1000       1     0         0   \n",
       "4           0  35.000000      0      0   8.0500       0     1         0   \n",
       "..        ...        ...    ...    ...      ...     ...   ...       ...   \n",
       "886         0  27.000000      0      0  13.0000       0     1         0   \n",
       "887         1  19.000000      0      0  30.0000       1     0         0   \n",
       "888         0  29.699118      1      2  23.4500       1     0         0   \n",
       "889         1  26.000000      0      0  30.0000       0     1         1   \n",
       "890         0  32.000000      0      0   7.7500       0     1         0   \n",
       "\n",
       "     embark_Q  embark_S  class_1  class_2  class_3  \n",
       "0           0         1        0        0        1  \n",
       "1           0         0        1        0        0  \n",
       "2           0         1        0        0        1  \n",
       "3           0         1        1        0        0  \n",
       "4           0         1        0        0        1  \n",
       "..        ...       ...      ...      ...      ...  \n",
       "886         0         1        0        1        0  \n",
       "887         0         1        1        0        0  \n",
       "888         0         1        0        0        1  \n",
       "889         0         0        1        0        0  \n",
       "890         1         0        0        0        1  \n",
       "\n",
       "[891 rows x 13 columns]"
      ]
     },
     "execution_count": 4,
     "metadata": {},
     "output_type": "execute_result"
    }
   ],
   "source": [
    "titanic_data"
   ]
  },
  {
   "cell_type": "markdown",
   "id": "c488a5f3",
   "metadata": {},
   "source": [
    "In the following cell we separate between features and labels and then convert them into numpy arrays. <br>Next, we split the dataset into training and test sets. "
   ]
  },
  {
   "cell_type": "code",
   "execution_count": 5,
   "id": "47deb091",
   "metadata": {},
   "outputs": [],
   "source": [
    "labels = titanic_data[\"Survived\"].to_numpy()\n",
    "titanic_data = titanic_data.drop(['Survived'], axis=1)\n",
    "feature_names = list(titanic_data.columns)\n",
    "data = titanic_data.to_numpy()\n",
    "\n",
    "train_indices = np.random.choice(len(labels), int(0.7*len(labels)), replace=False)\n",
    "test_indices = list(set(range(len(labels))) - set(train_indices))\n",
    "train_features = data[train_indices]\n",
    "train_labels = labels[train_indices]\n",
    "test_features = data[test_indices]\n",
    "test_labels = labels[test_indices]"
   ]
  },
  {
   "cell_type": "markdown",
   "id": "509b89d4",
   "metadata": {},
   "source": [
    "# 2. Model training"
   ]
  },
  {
   "cell_type": "markdown",
   "id": "45271a39",
   "metadata": {},
   "source": [
    "Now, we define the neural network used for the task. <br>\n",
    "The defined neural network has a simple architecture using 2 linear layers: the first with 12 units and the second with 8 units. Each linear layer is followed by a Sigmoid function. <br>The final layer which is followed by a softmax operation has 2 units corresponding to the number of labels in the dataset (survived (1) or not survived (0))."
   ]
  },
  {
   "cell_type": "code",
   "execution_count": 6,
   "id": "82590acd",
   "metadata": {},
   "outputs": [],
   "source": [
    "class SimpleNNModel(nn.Module):\n",
    "    def __init__(self):\n",
    "        super().__init__()\n",
    "        self.linear1 = nn.Linear(12, 12)\n",
    "        self.sigmoid1 = nn.Sigmoid()\n",
    "        self.linear2 = nn.Linear(12, 8)\n",
    "        self.sigmoid2 = nn.Sigmoid()\n",
    "        self.linear3 = nn.Linear(8, 2)\n",
    "        self.softmax = nn.Softmax(dim=1)\n",
    "\n",
    "    def forward(self, x):\n",
    "        lin1_out = self.linear1(x)\n",
    "        sigmoid_out1 = self.sigmoid1(lin1_out)\n",
    "        sigmoid_out2 = self.sigmoid2(self.linear2(sigmoid_out1))\n",
    "        return self.softmax(self.linear3(sigmoid_out2))"
   ]
  },
  {
   "cell_type": "markdown",
   "id": "b84a3c0b",
   "metadata": {},
   "source": [
    "In the following cell, we train the model."
   ]
  },
  {
   "cell_type": "code",
   "execution_count": 7,
   "id": "ff7d5e35",
   "metadata": {},
   "outputs": [
    {
     "name": "stdout",
     "output_type": "stream",
     "text": [
      "Epoch 1/200 => Loss: 0.70\n",
      "Epoch 21/200 => Loss: 0.55\n",
      "Epoch 41/200 => Loss: 0.50\n",
      "Epoch 61/200 => Loss: 0.48\n",
      "Epoch 81/200 => Loss: 0.48\n",
      "Epoch 101/200 => Loss: 0.47\n",
      "Epoch 121/200 => Loss: 0.47\n",
      "Epoch 141/200 => Loss: 0.47\n",
      "Epoch 161/200 => Loss: 0.47\n",
      "Epoch 181/200 => Loss: 0.47\n"
     ]
    }
   ],
   "source": [
    "net = SimpleNNModel()\n",
    "criterion = nn.CrossEntropyLoss()\n",
    "num_epochs = 200\n",
    "losses = []\n",
    "optimizer = torch.optim.Adam(net.parameters(), lr=0.1)\n",
    "input_tensor = torch.from_numpy(train_features).type(torch.FloatTensor)\n",
    "label_tensor = torch.from_numpy(train_labels)\n",
    "for epoch in range(num_epochs):    \n",
    "    output = net(input_tensor)\n",
    "    loss = criterion(output, label_tensor)\n",
    "    losses.append(loss.item())\n",
    "    optimizer.zero_grad()\n",
    "    loss.backward()\n",
    "    optimizer.step()\n",
    "    if epoch % 20 == 0:\n",
    "        print ('Epoch {}/{} => Loss: {:.2f}'.format(epoch+1, num_epochs, loss.item()))\n",
    "\n",
    "torch.save(net.state_dict(), 'models/titanic_model.pt')"
   ]
  },
  {
   "cell_type": "markdown",
   "id": "93ff0bb0",
   "metadata": {},
   "source": [
    "In the following cell, we visualize the training loss of the used model."
   ]
  },
  {
   "cell_type": "code",
   "execution_count": 8,
   "id": "77697073",
   "metadata": {},
   "outputs": [
    {
     "data": {
      "image/png": "[encoded data removed]",
      "text/plain": [
       "<Figure size 432x288 with 1 Axes>"
      ]
     },
     "metadata": {
      "needs_background": "light"
     },
     "output_type": "display_data"
    }
   ],
   "source": [
    "plt.plot(losses, linestyle = 'dotted')\n",
    "plt.title(\"Training loss\")\n",
    "plt.xlabel(\"epochs\")\n",
    "plt.ylabel(\"loss\")\n",
    "plt.show()"
   ]
  },
  {
   "cell_type": "markdown",
   "id": "25ce6167",
   "metadata": {},
   "source": [
    "We display the train accuracy."
   ]
  },
  {
   "cell_type": "code",
   "execution_count": 9,
   "id": "b7aff35f",
   "metadata": {},
   "outputs": [
    {
     "name": "stdout",
     "output_type": "stream",
     "text": [
      "Train Accuracy: 0.8378812199036918\n"
     ]
    }
   ],
   "source": [
    "out_probs = net(input_tensor).detach().numpy()\n",
    "out_classes = np.argmax(out_probs, axis=1)\n",
    "print(\"Train Accuracy:\", sum(out_classes == train_labels) / len(train_labels))"
   ]
  },
  {
   "cell_type": "markdown",
   "id": "3eb6c89e",
   "metadata": {},
   "source": [
    "We display the test accuracy."
   ]
  },
  {
   "cell_type": "code",
   "execution_count": 10,
   "id": "1a2755b0",
   "metadata": {},
   "outputs": [
    {
     "name": "stdout",
     "output_type": "stream",
     "text": [
      "Test Accuracy: 0.8097014925373134\n"
     ]
    }
   ],
   "source": [
    "test_input_tensor = torch.from_numpy(test_features).type(torch.FloatTensor)\n",
    "out_probs = net(test_input_tensor).detach().numpy()\n",
    "out_classes = np.argmax(out_probs, axis=1)\n",
    "print(\"Test Accuracy:\", sum(out_classes == test_labels) / len(test_labels))"
   ]
  },
  {
   "cell_type": "markdown",
   "id": "feb196f7",
   "metadata": {},
   "source": [
    "# 3. Layer conductance in Captum"
   ]
  },
  {
   "cell_type": "markdown",
   "id": "acc8802f",
   "metadata": {},
   "source": [
    "Here, we define the <b>*Layer Conductance*</b> object from the Captum library."
   ]
  },
  {
   "cell_type": "code",
   "execution_count": 11,
   "id": "ab5f6312",
   "metadata": {},
   "outputs": [],
   "source": [
    "cond = LayerConductance(net, net.sigmoid1)"
   ]
  },
  {
   "cell_type": "markdown",
   "id": "1a0d211d",
   "metadata": {},
   "source": [
    "Now, we will focus mainly on how the different neurons in each layer work together to reach the prediction. <br>For instance, in our first hidden layer output containing 12 units, are all the units used for prediction? Do some units learn features positively correlated with survival while others learn features negatively correlated with survival?"
   ]
  },
  {
   "cell_type": "code",
   "execution_count": 12,
   "id": "3ae8d89e",
   "metadata": {},
   "outputs": [
    {
     "name": "stdout",
     "output_type": "stream",
     "text": [
      "(268, 12)\n",
      "torch.Size([268, 12])\n"
     ]
    }
   ],
   "source": [
    "cond_vals = cond.attribute(test_input_tensor,target=1)\n",
    "cond_vals = cond_vals.detach().numpy()\n",
    "print(cond_vals.shape)\n",
    "print(test_input_tensor.shape)"
   ]
  },
  {
   "cell_type": "markdown",
   "id": "0da2478e",
   "metadata": {},
   "source": [
    "We define this function to visualize the importance of neurons in a given layer."
   ]
  },
  {
   "cell_type": "code",
   "execution_count": 13,
   "id": "18608608",
   "metadata": {},
   "outputs": [],
   "source": [
    "def visualize_importances(neuron_names, importances, title=\"Average Neuron Importances\", plot=True, axis_title=\"Neurons\"):\n",
    "    print(title)\n",
    "    for i in range(len(neuron_names)):\n",
    "        print(feature_names[i], \": \", '%.3f'%(importances[i]))\n",
    "    x_pos = (np.arange(len(neuron_names)))\n",
    "    if plot:\n",
    "        plt.figure(figsize=(12,6))\n",
    "        plt.bar(x_pos, importances, align='center')\n",
    "        plt.xticks(x_pos, neuron_names, wrap=True)\n",
    "        plt.xlabel(axis_title)\n",
    "        plt.title(title)"
   ]
  },
  {
   "cell_type": "markdown",
   "id": "e486ef67",
   "metadata": {},
   "source": [
    "We can begin by visualizing the average conductance for each neuron.\n",
    "<br> formula, description of type of condu\n",
    "\n",
    "For each neuron $y$, we calculate its conductance using this formula: <br>\n",
    "<br>\n",
    "$Cond^y(x) = \\sum_i(x_i - x'_i) \\cdot \\int_{\\alpha = 0}^{1} \\frac{\\partial F(x'+\\alpha(x-x'))}{\\partial y} \\cdot \\frac{\\partial y}{\\partial x_i} d\\alpha$"
   ]
  },
  {
   "cell_type": "code",
   "execution_count": 14,
   "id": "7a7ff108",
   "metadata": {},
   "outputs": [
    {
     "name": "stdout",
     "output_type": "stream",
     "text": [
      "Average Neuron Importances\n",
      "Age :  0.024\n",
      "SibSp :  -0.103\n",
      "Parch :  0.041\n",
      "Fare :  0.016\n",
      "female :  -0.120\n",
      "male :  -0.066\n",
      "embark_C :  -0.387\n",
      "embark_Q :  -0.009\n",
      "embark_S :  0.039\n",
      "class_1 :  -0.037\n",
      "class_2 :  -0.105\n",
      "class_3 :  0.030\n"
     ]
    },
    {
     "data": {
      "image/png": "[encoded data removed]",
      "text/plain": [
       "<Figure size 864x432 with 1 Axes>"
      ]
     },
     "metadata": {
      "needs_background": "light"
     },
     "output_type": "display_data"
    }
   ],
   "source": [
    "visualize_importances(range(12),np.mean(cond_vals, axis=0),title=\"Average Neuron Importances\", axis_title=\"Neurons\")"
   ]
  },
  {
   "cell_type": "markdown",
   "id": "33e0cd71",
   "metadata": {},
   "source": [
    "We can also look at the distribution of each neuron's attributions. Below we look at the distributions for neurons 7 and 9, and we can confirm that their attribution distributions are very close to 0, suggesting they are not learning substantial features."
   ]
  },
  {
   "cell_type": "code",
   "execution_count": 15,
   "id": "b8ed39a8",
   "metadata": {},
   "outputs": [
    {
     "data": {
      "image/png": "[encoded data removed]",
      "text/plain": [
       "<Figure size 432x288 with 1 Axes>"
      ]
     },
     "metadata": {
      "needs_background": "light"
     },
     "output_type": "display_data"
    },
    {
     "data": {
      "image/png": "[encoded data removed]",
      "text/plain": [
       "<Figure size 432x288 with 1 Axes>"
      ]
     },
     "metadata": {
      "needs_background": "light"
     },
     "output_type": "display_data"
    }
   ],
   "source": [
    "plt.hist(cond_vals[:,9], 100);\n",
    "plt.title(\"Neuron 9 Distribution\")\n",
    "plt.figure()\n",
    "plt.hist(cond_vals[:,7], 100);\n",
    "plt.title(\"Neuron 7 Distribution\");"
   ]
  },
  {
   "cell_type": "markdown",
   "id": "bab268c9",
   "metadata": {},
   "source": [
    "Now, we extract the neuron attribution with regards to the input features. <br>\n",
    "We focus on the cumulated gradients along a specific feature dimension in the input space. <br>\n",
    "\n",
    "We calculate the attribution of a neuron $y$ with regards to each input feature $i$ using this formula:\n",
    "<br>\n",
    "$Cond^y_i(x) = (x_i - x'_i) \\cdot \\int_{\\alpha = 0}^{1} \\frac{\\partial F(x'+\\alpha(x-x'))}{\\partial y} \\cdot \\frac{\\partial y}{\\partial x_i} d\\alpha$\n"
   ]
  },
  {
   "cell_type": "code",
   "execution_count": 16,
   "id": "8c687d43",
   "metadata": {},
   "outputs": [],
   "source": [
    "neuron_cond = NeuronConductance(net, net.sigmoid1)"
   ]
  },
  {
   "cell_type": "markdown",
   "id": "0419dc4d",
   "metadata": {},
   "source": [
    "In the two following cells, we fix the neuron and visualize its attribution along the input fatures.<br>\n",
    "Here, we extract the attributions for the neuron 0."
   ]
  },
  {
   "cell_type": "code",
   "execution_count": 17,
   "id": "08dda69f",
   "metadata": {},
   "outputs": [],
   "source": [
    "neuron_cond_vals_0 = neuron_cond.attribute(test_input_tensor, neuron_selector=0, target=1)"
   ]
  },
  {
   "cell_type": "markdown",
   "id": "20ea0110",
   "metadata": {},
   "source": [
    "Now, we extract the attributions for the neuron 2."
   ]
  },
  {
   "cell_type": "code",
   "execution_count": 18,
   "id": "788637e3",
   "metadata": {},
   "outputs": [],
   "source": [
    "neuron_cond_vals_2 = neuron_cond.attribute(test_input_tensor, neuron_selector=2, target=1)"
   ]
  },
  {
   "cell_type": "markdown",
   "id": "8e21dd36",
   "metadata": {},
   "source": [
    "We viusalize the attributions of the features for the neuron 0."
   ]
  },
  {
   "cell_type": "code",
   "execution_count": 21,
   "id": "4807410a",
   "metadata": {},
   "outputs": [
    {
     "name": "stdout",
     "output_type": "stream",
     "text": [
      "Average Feature Importances for Neuron 0\n",
      "Age :  -0.002\n",
      "SibSp :  0.000\n",
      "Parch :  0.000\n",
      "Fare :  0.035\n",
      "female :  0.000\n",
      "male :  -0.005\n",
      "embark_C :  -0.000\n",
      "embark_Q :  0.001\n",
      "embark_S :  -0.002\n",
      "class_1 :  -0.000\n",
      "class_2 :  0.001\n",
      "class_3 :  -0.001\n"
     ]
    },
    {
     "data": {
      "image/png": "[encoded data removed]",
      "text/plain": [
       "<Figure size 864x432 with 1 Axes>"
      ]
     },
     "metadata": {
      "needs_background": "light"
     },
     "output_type": "display_data"
    }
   ],
   "source": [
    "visualize_importances(feature_names, neuron_cond_vals_0.mean(dim=0).detach().numpy(), title=\"Average Feature Importances for Neuron 0\", axis_title=\"Features\")"
   ]
  },
  {
   "cell_type": "markdown",
   "id": "e8fe108b",
   "metadata": {},
   "source": [
    "We can see that, for this neuron, the most important feature is the fare."
   ]
  },
  {
   "cell_type": "markdown",
   "id": "ab2e76ba",
   "metadata": {},
   "source": [
    "We viusalize the attributions of the features for the neuron 10."
   ]
  },
  {
   "cell_type": "code",
   "execution_count": 20,
   "id": "390dc4f1",
   "metadata": {},
   "outputs": [
    {
     "name": "stdout",
     "output_type": "stream",
     "text": [
      "Average Feature Importances for Neuron 2\n",
      "Age :  0.029\n",
      "SibSp :  0.000\n",
      "Parch :  0.000\n",
      "Fare :  0.014\n",
      "female :  -0.000\n",
      "male :  0.002\n",
      "embark_C :  0.000\n",
      "embark_Q :  0.000\n",
      "embark_S :  0.001\n",
      "class_1 :  0.000\n",
      "class_2 :  0.000\n",
      "class_3 :  0.001\n"
     ]
    },
    {
     "data": {
      "image/png": "[encoded data removed]",
      "text/plain": [
       "<Figure size 864x432 with 1 Axes>"
      ]
     },
     "metadata": {
      "needs_background": "light"
     },
     "output_type": "display_data"
    }
   ],
   "source": [
    "visualize_importances(feature_names, neuron_cond_vals_2.mean(dim=0).detach().numpy(), title=\"Average Feature Importances for Neuron 2\")"
   ]
  },
  {
   "cell_type": "markdown",
   "id": "9117cb4e",
   "metadata": {},
   "source": [
    "This plot indicates that neuron 2 primarily relies on the age feature, substantially different from the focus of neuron 0."
   ]
  },
  {
   "cell_type": "markdown",
   "id": "e08cf424",
   "metadata": {},
   "source": [
    "Thank you!"
   ]
  }
 ],
 "metadata": {
  "kernelspec": {
   "display_name": "Python 3",
   "language": "python",
   "name": "python3"
  },
  "language_info": {
   "codemirror_mode": {
    "name": "ipython",
    "version": 3
   },
   "file_extension": ".py",
   "mimetype": "text/x-python",
   "name": "python",
   "nbconvert_exporter": "python",
   "pygments_lexer": "ipython3",
   "version": "3.8.10"
  }
 },
 "nbformat": 4,
 "nbformat_minor": 5
}
