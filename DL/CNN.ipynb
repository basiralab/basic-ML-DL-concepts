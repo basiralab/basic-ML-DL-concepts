{
 "cells": [
  {
   "cell_type": "markdown",
   "metadata": {},
   "source": [
    "This Jupyter notebook details theoretically the architecture and the mechanism of the Convolutional Neural Network (ConvNet) step by step. Then, we implement the CNN code for multi-class classification task using pytorch. <br> \n",
    "The notebook was implemented by <i>Nada Chaari</i>, PhD student at Istanbul Technical University (ITU). <br>"
   ]
  },
  {
   "cell_type": "markdown",
   "metadata": {},
   "source": [
    "# Table of Contents:\n",
    "\n",
    "    1)Convolution layer\n",
    "        1-1) Input image \n",
    "        1-2) Filter\n",
    "        1-3) Output image\n",
    "        1-4) Multiple filters\n",
    "        1-5) One-layer of a convolutional neural network\n",
    "    2)Pooling layer\n",
    "    3)Fully connected layer\n",
    "    4)Softmax\n",
    "    5)Application of CNN using CIFAR dataset\n",
    "            5-1) Dataset\n",
    "            5-2) Load and normalize the CIFAR10 training and test datasets \n",
    "            5-3) Define a Convolutioanl Neural Network\n",
    "            5-4) Define a Loss function and optimizer\n",
    "            5-5) Train the CNN\n",
    "            5-6) Test the network on the test data"
   ]
  },
  {
   "cell_type": "markdown",
   "metadata": {},
   "source": [
    "Sources used to build this Jupiter Notebook:\n",
    "* https://towardsdatascience.com/understanding-images-with-skimage-python-b94d210afd23\n",
    "* https://gombru.github.io/2018/05/23/cross_entropy_loss/\n",
    "* https://medium.com/@toprak.mhmt/activation-functions-for-deep-learning-13d8b9b20e\n",
    "* https://github.com/python-engineer/pytorchTutorial/blob/master/14_cnn.py  \n",
    "* https://medium.com/machine-learning-bites/deeplearning-series-convolutional-neural-networks-a9c2f2ee1524\n",
    "* https://towardsdatascience.com/stochastic-gradient-descent-clearly-explained-53d239905d31"
   ]
  },
  {
   "cell_type": "markdown",
   "metadata": {},
   "source": [
    "# CNN (ConvNet) definition"
   ]
  },
  {
   "cell_type": "markdown",
   "metadata": {},
   "source": [
    "Convolutional Neural Network is a sequence of layers made up of neurons that have learnable weights and biases. Each neuron receives some inputs, performs a dot product and optionally follows it with a non-linearity. The whole network still expresses a single differentiable score function: from the raw image pixels on one end to class scores at the other. CNNs have a loss function (e.g. SVM/Softmax) on the last (fully-connected) layer."
   ]
  },
  {
   "cell_type": "markdown",
   "metadata": {},
   "source": [
    "* There are 3 types of layers to build the ConvNet architectures:\n",
    "    * Convolution (CONV)\n",
    "    * Pooling (POOL)\n",
    "    * Fully connected (FC)"
   ]
  },
  {
   "cell_type": "markdown",
   "metadata": {},
   "source": [
    "# 1) Convolution layer"
   ]
  },
  {
   "cell_type": "markdown",
   "metadata": {},
   "source": [
    "## 1-1) Input image "
   ]
  },
  {
   "cell_type": "markdown",
   "metadata": {},
   "source": [
    "* Image with color has three channels: red, green and blue, which can be represented as three 2d-matrices stacked over each other (one for each color), each having pixel values in the range 0 to 255."
   ]
  },
  {
   "cell_type": "markdown",
   "metadata": {},
   "source": [
    "<img src='https://miro.medium.com/max/1400/1*icINeO4H7UKe3NlU1fXqlA.jpeg' width='400'  align=\"center\">"
   ]
  },
  {
   "cell_type": "markdown",
   "metadata": {},
   "source": [
    "## 1-2) Filter"
   ]
  },
  {
   "cell_type": "markdown",
   "metadata": {},
   "source": [
    "<img src='https://miro.medium.com/max/933/1*7S266Kq-UCExS25iX_I_AQ.png' width='500'  align=\"center\">"
   ]
  },
  {
   "cell_type": "markdown",
   "metadata": {},
   "source": [
    "* In the filter the value '1' allows filtering brightness, \n",
    "* While '-1' highlights the darkness,\n",
    "* Furthermore, '0' highlights the grey."
   ]
  },
  {
   "cell_type": "markdown",
   "metadata": {},
   "source": [
    "* The convolution layer in the case of a ConvNet extracts features from the input image:\n",
    "    * choose a filter (kernel) of a certain dimension\n",
    "    * slide the filter from the top left to the right until we reach the bottom of the image.\n",
    "* The convolution operation is an element-wise multiplication between the two matrices (filter and the part of the image) and an addition of the multiplication outputs.\n",
    "\n",
    "* The final integer of this computation forms a single element of the output matrix."
   ]
  },
  {
   "cell_type": "markdown",
   "metadata": {},
   "source": [
    "* Stride: is the step that the filter moves horizontally and vertically by pixel.\n",
    "In the above example, the value of a stride equal to 1.\n",
    "\n",
    "Because the pixels on the edges are “touched” less by the filter than the pixels within the image, we apply padding.\n",
    "\n",
    "* Padding: is to pad the image with zeros all around its border to allow the filter to slide on top and maintain the output size equal to the input"
   ]
  },
  {
   "cell_type": "markdown",
   "metadata": {},
   "source": [
    "<img src='https://miro.medium.com/max/684/1*PBnmjdDqn-OF8JEyRgKm9Q.png' width='200'  align=\"center\">"
   ]
  },
  {
   "cell_type": "markdown",
   "metadata": {},
   "source": [
    "<font color='red'> Important </font>: The goal of a convolutional neural network is to learn the values of filters. They are treated as parameters, which the network learns using backpropagation."
   ]
  },
  {
   "cell_type": "markdown",
   "metadata": {},
   "source": [
    "## 1-3) Output image "
   ]
  },
  {
   "cell_type": "markdown",
   "metadata": {},
   "source": [
    "The size of the output image after applying the filter, knowing the filter size (f), stride (s), pad (p), and input size (n) is given as:"
   ]
  },
  {
   "cell_type": "markdown",
   "metadata": {},
   "source": [
    "<img src='https://miro.medium.com/max/933/1*rOyHQ2teFXX5rIIFHwYDsg.png' width='400'  align=\"center\">"
   ]
  },
  {
   "cell_type": "markdown",
   "metadata": {},
   "source": [
    "<img src='https://miro.medium.com/max/933/1*IBWQJSnW19WIYsObZcMTNg.png' width='500'  align=\"center\">"
   ]
  },
  {
   "cell_type": "markdown",
   "metadata": {},
   "source": [
    "## 1-4) Multiple filters"
   ]
  },
  {
   "cell_type": "markdown",
   "metadata": {},
   "source": [
    "We can generalize the application of one filter at a time to multiple filters to detect several different features. This is the concept for building convolutional neural networks. Each filter brings its own output and we stack them all together and create an output volume, such as:"
   ]
  },
  {
   "cell_type": "markdown",
   "metadata": {},
   "source": [
    "<img src='https://miro.medium.com/max/933/1*ySaRmKSilLahyK2WxXC1bA.png' width='500'  align=\"center\">"
   ]
  },
  {
   "cell_type": "markdown",
   "metadata": {},
   "source": [
    "The general formula of the output image can be written as: "
   ]
  },
  {
   "cell_type": "markdown",
   "metadata": {},
   "source": [
    "<img src='https://miro.medium.com/max/933/1*pN09gs3rXeTh_EwED1d76Q.png' width='500'  align=\"center\">"
   ]
  },
  {
   "cell_type": "markdown",
   "metadata": {},
   "source": [
    "where nc is the number of filters"
   ]
  },
  {
   "cell_type": "markdown",
   "metadata": {},
   "source": [
    "## 1-5) One-layer of a convolutional neural network"
   ]
  },
  {
   "cell_type": "markdown",
   "metadata": {},
   "source": [
    "The final step that takes us to a convolutional neural layer is to add the bias and a non-linear function."
   ]
  },
  {
   "cell_type": "markdown",
   "metadata": {},
   "source": [
    "The goal of the activation function is to add a non-linearity to the network so that it can model non-linear relationships. The most used is Rectified Linear (RELU) defined as max(0,z) with  thresholding at zero. This function assigns zeros to all negatives inputs and keep the same values to the positives inputs. This leaves the size of the output volume unchanged ([4x4x1])."
   ]
  },
  {
   "cell_type": "markdown",
   "metadata": {},
   "source": [
    "<img src='https://miro.medium.com/max/933/1*LiBZo_FcnKWqoU7M3GRKbA.png' width='300'  align=\"center\">"
   ]
  },
  {
   "cell_type": "markdown",
   "metadata": {},
   "source": [
    "<img src='https://miro.medium.com/max/933/1*EpeM8rTf5RFKYphZwYItkg.png' width='500'  align=\"center\">"
   ]
  },
  {
   "cell_type": "markdown",
   "metadata": {},
   "source": [
    "The parameters involved in one layer are the elements forming the filters and the bias.\n",
    "Example: if we have 10 filters that are of size 3x3x3 in one layer of a neural network. Each filter has 27 (3x3x3) + 1 bias => 28 parameters. Therefore, the total amount of parameters in the layer is 280 (10x28)."
   ]
  },
  {
   "cell_type": "markdown",
   "metadata": {},
   "source": [
    "##  Deep Convolutional Network"
   ]
  },
  {
   "cell_type": "markdown",
   "metadata": {},
   "source": [
    "<img src='https://miro.medium.com/max/933/1*PT1sP_kCvdFEiJEsoKU88Q.png' width='600'  align=\"center\">"
   ]
  },
  {
   "cell_type": "markdown",
   "metadata": {},
   "source": [
    "# 2) Pooling layer"
   ]
  },
  {
   "cell_type": "markdown",
   "metadata": {},
   "source": [
    "Pooling layer performs a downsampling operation by progressively reducing the spatial size of the representation (input volume) to reduce the amount of learnable parameters and thus the computational cost; and to avoid overfitting by providing an abstracted form of the input. The Pooling Layer operates independently on every depth slice of the input and resizes it."
   ]
  },
  {
   "cell_type": "markdown",
   "metadata": {},
   "source": [
    "There are two types of pooling layers: max and average pooling.\n",
    "\n",
    "* Max pooling: a filter which takes take the largest element within the region it covers.\n",
    "* Average pooling: a filter which retains the average of the values encountered within the region it covers.\n",
    "\n",
    "Note: pooling layer does not have any parameters to learn. "
   ]
  },
  {
   "cell_type": "markdown",
   "metadata": {},
   "source": [
    "<img src='https://miro.medium.com/max/933/1*voEBfjohEDVRK7RpNvxd-Q.png' width='300'  align=\"center\">"
   ]
  },
  {
   "cell_type": "markdown",
   "metadata": {},
   "source": [
    "# 3) Fully connected layer"
   ]
  },
  {
   "cell_type": "markdown",
   "metadata": {},
   "source": [
    "Fully connected layer (FC) is a layer where all the layer inputs are connectd to all layer outputs. In classification task, FC is used to extract features from the data to make the classification work. Also, FC computes the class scores to classifier the data. In general, FC layer is added to make the model end-to-end trainable by learning a function between the high-level features given as an output from the convolutional layers."
   ]
  },
  {
   "cell_type": "markdown",
   "metadata": {},
   "source": [
    "<img src='https://miro.medium.com/max/933/1*_l-0PeSh3oL2Wc2ri2sVWA.png' width='600'  align=\"center\">"
   ]
  },
  {
   "cell_type": "markdown",
   "metadata": {},
   "source": [
    "It’s common that, as we go deeper into the network, the sizes (nh, nw) decrease, while the number of channels (nc) increases."
   ]
  },
  {
   "cell_type": "markdown",
   "metadata": {},
   "source": [
    "# 4) Softmax "
   ]
  },
  {
   "cell_type": "markdown",
   "metadata": {},
   "source": [
    "The softmax function is a type of a sigmoid function, not a loss, used in classification problems. The softmax function is ideally used in the output layer of the classifier where we are actually trying to get the probabilities to define the class of each input. "
   ]
  },
  {
   "cell_type": "markdown",
   "metadata": {},
   "source": [
    "The Softmax function cannot be applied independently to each $s_i$, since it depends on all elements of $s$. For a given class $s_i$, the Softmax function can be computed as:"
   ]
  },
  {
   "cell_type": "markdown",
   "metadata": {},
   "source": [
    "$$ f(s)_{i} = \\frac{e^{s_{i}}}{\\sum_{j}^{C} e^{s_{j}}} $$"
   ]
  },
  {
   "cell_type": "markdown",
   "metadata": {},
   "source": [
    "Where $s_j$ are the scores inferred by the net for each class in C. Note that the Softmax activation for a class $s_i$ depends on all the scores in $s$."
   ]
  },
  {
   "cell_type": "markdown",
   "metadata": {},
   "source": [
    "So, if a network with 3 neurons in the output layer outputs [1.6, 0.55, 0.98], then with a softmax activation function, the outputs get converted to [0.51, 0.18, 0.31]. This way, it is easier for us to classify a given data point and determine to which category it belongs."
   ]
  },
  {
   "cell_type": "markdown",
   "metadata": {},
   "source": [
    "<img src='https://gombru.github.io/assets/cross_entropy_loss/intro.png' width='400'  align=\"center\">"
   ]
  },
  {
   "cell_type": "markdown",
   "metadata": {},
   "source": [
    "# 5)  Application of CNN using CIFAR dataset"
   ]
  },
  {
   "cell_type": "markdown",
   "metadata": {},
   "source": [
    "## 5-1) dataset"
   ]
  },
  {
   "cell_type": "markdown",
   "metadata": {},
   "source": [
    "For the CNN application, we will use the CIFAR10 dataset. It has the classes: ‘airplane’, ‘automobile’, ‘bird’, ‘cat’, ‘deer’, ‘dog’, ‘frog’, ‘horse’, ‘ship’, ‘truck’. The images in CIFAR-10 are of size 3x32x32, i.e. 3-channel color images of 32x32 pixels in size."
   ]
  },
  {
   "cell_type": "markdown",
   "metadata": {},
   "source": [
    "<img src='https://cs231n.github.io/assets/cnn/convnet.jpeg' width='600'  align=\"center\">"
   ]
  },
  {
   "cell_type": "markdown",
   "metadata": {},
   "source": [
    "## 5-2) Load and normalize the CIFAR10 training and test datasets using torchvision"
   ]
  },
  {
   "cell_type": "code",
   "execution_count": 1,
   "metadata": {},
   "outputs": [],
   "source": [
    "import torch\n",
    "import torchvision # torchvision is for loading the dataset (CIFAR10) \n",
    "import torchvision.transforms as transforms # torchvision.transforms is for data transformers for images\n",
    "import numpy as np"
   ]
  },
  {
   "cell_type": "code",
   "execution_count": 2,
   "metadata": {},
   "outputs": [],
   "source": [
    "# Hyper-parameters \n",
    "num_epochs = 5\n",
    "batch_size = 4\n",
    "learning_rate = 0.001"
   ]
  },
  {
   "cell_type": "code",
   "execution_count": 3,
   "metadata": {},
   "outputs": [],
   "source": [
    "# dataset has PILImage images of range [0, 1]. \n",
    "# We transform them to Tensors of normalized range [-1, 1]\n",
    "transform = transforms.Compose(\n",
    "    [transforms.ToTensor(),\n",
    "     transforms.Normalize((0.5, 0.5, 0.5), (0.5, 0.5, 0.5))])"
   ]
  },
  {
   "cell_type": "code",
   "execution_count": 4,
   "metadata": {},
   "outputs": [
    {
     "name": "stdout",
     "output_type": "stream",
     "text": [
      "Files already downloaded and verified\n",
      "Files already downloaded and verified\n"
     ]
    }
   ],
   "source": [
    "#  A CIFAR10 dataset are available in pytorch. We load CIFAR from torchvision.datasets\n",
    "# CIFAR10: 60000 32x32 color images in 10 classes, with 6000 images per class\n",
    "\n",
    "train_dataset = torchvision.datasets.CIFAR10(root='./data', train=True,\n",
    "                                        download=True, transform=transform) \n",
    "\n",
    "test_dataset = torchvision.datasets.CIFAR10(root='./data', train=False,\n",
    "                                       download=True, transform=transform)\n",
    "\n",
    "# We define the pytorch data loader so that we can do the batch optimazation and batch training\n",
    "train_loader = torch.utils.data.DataLoader(train_dataset, batch_size=batch_size, \n",
    "                                          shuffle=True)\n",
    "\n",
    "test_loader = torch.utils.data.DataLoader(test_dataset, batch_size=batch_size,\n",
    "                                         shuffle=False)\n",
    "# Define the classes\n",
    "classes = ('plane', 'car', 'bird', 'cat',\n",
    "           'deer', 'dog', 'frog', 'horse', 'ship', 'truck')"
   ]
  },
  {
   "cell_type": "markdown",
   "metadata": {},
   "source": [
    "## 5-3) Define a Convolutional Neural Network"
   ]
  },
  {
   "cell_type": "code",
   "execution_count": 5,
   "metadata": {},
   "outputs": [],
   "source": [
    "import torch.nn as nn # for the the neural network \n",
    "import torch.nn.functional as F # import activation function (relu; softmax)"
   ]
  },
  {
   "cell_type": "code",
   "execution_count": 6,
   "metadata": {},
   "outputs": [],
   "source": [
    "# Implement the ConvNet \n",
    "class ConvNet(nn.Module):\n",
    "    def __init__(self):\n",
    "        super(ConvNet, self).__init__()\n",
    "        self.conv1 = nn.Conv2d(3, 6, 5) # create the first conv layer-- 3: num of channel; 6: output layer; 5: kernel size\n",
    "        self.pool = nn.MaxPool2d(2, 2) # create the first pool layer -- 2: kernel size; 2: stride size\n",
    "        self.conv2 = nn.Conv2d(6, 16, 5) # create the second conv layer -- 6: the input channel size must be equal to the last output channel size; 16: the output; 5: kernel size \n",
    "        self.fc1 = nn.Linear(16 * 5 * 5, 120) # # create the FC layer (classification layer) to flattern 3-d tensor to 1-d tensor\n",
    "        self.fc2 = nn.Linear(120, 84)\n",
    "        self.fc3 = nn.Linear(84, 10)\n",
    "\n",
    "    def forward(self, x):\n",
    "        # -> size of x: [3, 32, 32]\n",
    "        x = self.pool(F.relu(self.conv1(x)))  # -> size of x: [6, 14, 14] # call an activation function (relu)\n",
    "        x = self.pool(F.relu(self.conv2(x)))  # -> size of x: [16, 5, 5]\n",
    "        x = x.view(-1, 16 * 5 * 5)            # -> size of x: [400]\n",
    "        x = F.relu(self.fc1(x))               # -> size of x: [120]\n",
    "        x = F.relu(self.fc2(x))               # -> size of x: [84]\n",
    "        x = self.fc3(x)                       # -> size of x: [10]\n",
    "        return x"
   ]
  },
  {
   "cell_type": "code",
   "execution_count": 7,
   "metadata": {},
   "outputs": [],
   "source": [
    "# Create the model\n",
    "model = ConvNet()"
   ]
  },
  {
   "cell_type": "markdown",
   "metadata": {},
   "source": [
    "<img src='https://miro.medium.com/max/933/1*rOyHQ2teFXX5rIIFHwYDsg.png' width='400'  align=\"center\">"
   ]
  },
  {
   "cell_type": "markdown",
   "metadata": {},
   "source": [
    "## 5-4)  Define a Loss function and optimizer"
   ]
  },
  {
   "cell_type": "code",
   "execution_count": 8,
   "metadata": {},
   "outputs": [],
   "source": [
    "\n",
    "# Create the loss function (multiclass-classification problem)--> CrossEntropy\n",
    "criterion = nn.CrossEntropyLoss() # the softmax is included in the loss\n",
    "# Create the optimizer (use the stochastic gradient descent to optimize the model parameters given the lr)\n",
    "optimizer = torch.optim.SGD(model.parameters(), lr=learning_rate)"
   ]
  },
  {
   "cell_type": "markdown",
   "metadata": {},
   "source": [
    "### Stochastic gradient descent (SGD)"
   ]
  },
  {
   "cell_type": "markdown",
   "metadata": {},
   "source": [
    "Unlike the gradiend descent that takes the sum of squared residuals of all data points for each iteration of the algorithm, which is computaionally costed, SGD randomly picks one data point from the whole data set at each iteration to reduce the computations enormously."
   ]
  },
  {
   "cell_type": "markdown",
   "metadata": {},
   "source": [
    "## 5-5)  Train the CNN"
   ]
  },
  {
   "cell_type": "code",
   "execution_count": 9,
   "metadata": {},
   "outputs": [
    {
     "name": "stdout",
     "output_type": "stream",
     "text": [
      "Epoch [1/5], Step [2000/12500], Loss: 2.3497\n",
      "Epoch [1/5], Step [4000/12500], Loss: 2.2971\n",
      "Epoch [1/5], Step [6000/12500], Loss: 2.2820\n",
      "Epoch [1/5], Step [8000/12500], Loss: 2.2722\n",
      "Epoch [1/5], Step [10000/12500], Loss: 2.2366\n",
      "Epoch [1/5], Step [12000/12500], Loss: 2.1255\n",
      "Epoch [2/5], Step [2000/12500], Loss: 1.8898\n",
      "Epoch [2/5], Step [4000/12500], Loss: 2.8444\n",
      "Epoch [2/5], Step [6000/12500], Loss: 1.5852\n",
      "Epoch [2/5], Step [8000/12500], Loss: 1.7568\n",
      "Epoch [2/5], Step [10000/12500], Loss: 1.7472\n",
      "Epoch [2/5], Step [12000/12500], Loss: 1.4950\n",
      "Epoch [3/5], Step [2000/12500], Loss: 1.3918\n",
      "Epoch [3/5], Step [4000/12500], Loss: 1.1707\n",
      "Epoch [3/5], Step [6000/12500], Loss: 1.3633\n",
      "Epoch [3/5], Step [8000/12500], Loss: 1.1888\n",
      "Epoch [3/5], Step [10000/12500], Loss: 1.2995\n",
      "Epoch [3/5], Step [12000/12500], Loss: 1.2683\n",
      "Epoch [4/5], Step [2000/12500], Loss: 2.0188\n",
      "Epoch [4/5], Step [4000/12500], Loss: 1.1306\n",
      "Epoch [4/5], Step [6000/12500], Loss: 1.5046\n",
      "Epoch [4/5], Step [8000/12500], Loss: 1.5213\n",
      "Epoch [4/5], Step [10000/12500], Loss: 0.8750\n",
      "Epoch [4/5], Step [12000/12500], Loss: 0.7599\n",
      "Epoch [5/5], Step [2000/12500], Loss: 0.5422\n",
      "Epoch [5/5], Step [4000/12500], Loss: 1.4791\n",
      "Epoch [5/5], Step [6000/12500], Loss: 1.2368\n",
      "Epoch [5/5], Step [8000/12500], Loss: 1.7047\n",
      "Epoch [5/5], Step [10000/12500], Loss: 0.9934\n",
      "Epoch [5/5], Step [12000/12500], Loss: 1.2859\n",
      "Finished Training\n"
     ]
    }
   ],
   "source": [
    "# training loop\n",
    "n_total_steps = len(train_loader)\n",
    "for epoch in range(num_epochs):# loop over the number of epochs (5)\n",
    "    for i, (images, labels) in enumerate(train_loader):\n",
    "        # origin shape: [4, 3, 32, 32] = 4, 3, 1024\n",
    "        # input_layer: 3 input channels, 6 output channels, 5 kernel size\n",
    "        images = images # get the inputs images\n",
    "        labels = labels # get the inputs labels \n",
    "\n",
    "        # Forward pass\n",
    "        outputs = model(images) # forward: calculate the loss between the predicted scores and the ground truth\n",
    "        loss = criterion(outputs, labels) # compute the CrossEntropy loss between the predicted and the real labels\n",
    "\n",
    "        # Backward and optimize\n",
    "        optimizer.zero_grad() # zero the parameter gradients\n",
    "        loss.backward()  # the backward propagates the error (loss) back into the network and update each weight and bias for each layer in the CNN using SGD optimizer\n",
    "        optimizer.step()  # compute the SGD to find the next \n",
    "\n",
    "        if (i+1) % 2000 == 0: # print every 2000 mini-batches\n",
    "            print (f'Epoch [{epoch+1}/{num_epochs}], Step [{i+1}/{n_total_steps}], Loss: {loss.item():.4f}')\n",
    "\n",
    "print('Finished Training')"
   ]
  },
  {
   "cell_type": "markdown",
   "metadata": {},
   "source": [
    "## 5-6) Test the network on the test data"
   ]
  },
  {
   "cell_type": "code",
   "execution_count": 10,
   "metadata": {},
   "outputs": [],
   "source": [
    "# Evaluating the model\n",
    "with torch.no_grad(): # since we're not training, we don't need to calculate the gradients for our outputs\n",
    "    n_correct = 0\n",
    "    n_samples = 0\n",
    "    n_class_correct = [0 for i in range(10)]\n",
    "    n_class_samples = [0 for i in range(10)]\n",
    "    for images, labels in test_loader:\n",
    "        outputs = model(images) # run images through the network and output the probability distribution that image belongs to each class over 10 classes \n",
    "        # max returns (value ,index)\n",
    "        _, predicted = torch.max(outputs, 1) # returns the index having the highest probability score of each image over one batch\n",
    "        n_samples += labels.size(0)\n",
    "        n_correct += (predicted == labels).sum().item() # returns the number of corrected classified samples in each batch and increment them to the total right classified samples  \n",
    "        \n",
    "        for i in range(batch_size):\n",
    "            label = labels[i]\n",
    "            pred = predicted[i]\n",
    "            if (label == pred): # test if the predicted label of a sample is equal to the real label\n",
    "                n_class_correct[label] += 1 # calculate the number of corrected classified samples in each class\n",
    "            n_class_samples[label] += 1 # calculate the number of samples in each class (test data)\n",
    "\n",
    "    acc = 100.0 * n_correct / n_samples # calculate the accuracy classification of the network"
   ]
  },
  {
   "cell_type": "code",
   "execution_count": 11,
   "metadata": {},
   "outputs": [
    {
     "data": {
      "text/plain": [
       "tensor([[-1.6842, -3.7084,  1.3234,  2.7431,  2.4441,  2.3559,  2.9426,  0.8714,\n",
       "         -2.2512, -3.0369],\n",
       "        [-1.9072, -4.3147,  2.7707,  3.7801,  1.8912,  4.1183,  0.0313,  3.3546,\n",
       "         -3.4035, -2.4215],\n",
       "        [ 1.2983,  1.9861, -0.2302, -0.4804,  1.8494, -0.2348, -0.5466,  1.2893,\n",
       "         -0.7485, -0.5866],\n",
       "        [-0.2137, -1.9821,  0.6288,  0.1889,  2.3757,  0.3977,  1.1584,  3.4625,\n",
       "         -2.3372, -0.6290]])"
      ]
     },
     "execution_count": 11,
     "metadata": {},
     "output_type": "execute_result"
    }
   ],
   "source": [
    "outputs"
   ]
  },
  {
   "cell_type": "markdown",
   "metadata": {},
   "source": [
    "* We will visualize the outputs which represent the classes probability scores of 4 samples in one batch.\n",
    "* Each sample has 10 classes probability scores. The index of the class having the highest score will be the predicted value and which will be compared with the ground truth later on."
   ]
  },
  {
   "cell_type": "code",
   "execution_count": 14,
   "metadata": {},
   "outputs": [
    {
     "data": {
      "text/plain": [
       "<matplotlib.axes._subplots.AxesSubplot at 0x121704290>"
      ]
     },
     "execution_count": 14,
     "metadata": {},
     "output_type": "execute_result"
    },
    {
     "data": {
      "image/png": "[encoded data removed]",
      "text/plain": [
       "<Figure size 432x288 with 1 Axes>"
      ]
     },
     "metadata": {},
     "output_type": "display_data"
    }
   ],
   "source": [
    "import pandas as pd  # Visualizing Statistical Data \n",
    "import seaborn as sns # Visualizing Statistical Data \n",
    "df = pd.DataFrame({'accuracy_sample 1': outputs[0, 0:10].tolist(), 'classes': ['plane', 'car', 'bird', 'cat', 'deer', 'dog', 'frog', 'horse', 'ship', 'truck'],               })\n",
    "sns.set_style('darkgrid')\n",
    "# plot the accuracy classification for each class\n",
    "sns.barplot(x ='classes', y ='accuracy_sample 1', data = df, palette ='plasma')"
   ]
  },
  {
   "cell_type": "code",
   "execution_count": 15,
   "metadata": {},
   "outputs": [
    {
     "data": {
      "text/plain": [
       "<matplotlib.axes._subplots.AxesSubplot at 0x1217ac810>"
      ]
     },
     "execution_count": 15,
     "metadata": {},
     "output_type": "execute_result"
    },
    {
     "data": {
      "image/png": "[encoded data removed]",
      "text/plain": [
       "<Figure size 432x288 with 1 Axes>"
      ]
     },
     "metadata": {},
     "output_type": "display_data"
    }
   ],
   "source": [
    "df = pd.DataFrame({'accuracy_sample 2': outputs[1, 0:10].tolist(), 'classes': ['plane', 'car', 'bird', 'cat', 'deer', 'dog', 'frog', 'horse', 'ship', 'truck'],               })\n",
    "sns.set_style('darkgrid')\n",
    "# plot the accuracy classification for each class\n",
    "sns.barplot(x ='classes', y ='accuracy_sample 2', data = df, palette ='plasma')"
   ]
  },
  {
   "cell_type": "code",
   "execution_count": 16,
   "metadata": {},
   "outputs": [
    {
     "data": {
      "text/plain": [
       "<matplotlib.axes._subplots.AxesSubplot at 0x12192d050>"
      ]
     },
     "execution_count": 16,
     "metadata": {},
     "output_type": "execute_result"
    },
    {
     "data": {
      "image/png": "[encoded data removed]",
      "text/plain": [
       "<Figure size 432x288 with 1 Axes>"
      ]
     },
     "metadata": {},
     "output_type": "display_data"
    }
   ],
   "source": [
    "df = pd.DataFrame({'accuracy_sample 3': outputs[2, 0:10].tolist(), 'classes': ['plane', 'car', 'bird', 'cat', 'deer', 'dog', 'frog', 'horse', 'ship', 'truck'],               })\n",
    "sns.set_style('darkgrid')\n",
    "# plot the accuracy classification for each class\n",
    "sns.barplot(x ='classes', y ='accuracy_sample 3', data = df, palette ='plasma')"
   ]
  },
  {
   "cell_type": "code",
   "execution_count": 17,
   "metadata": {},
   "outputs": [
    {
     "data": {
      "text/plain": [
       "<matplotlib.axes._subplots.AxesSubplot at 0x121a329d0>"
      ]
     },
     "execution_count": 17,
     "metadata": {},
     "output_type": "execute_result"
    },
    {
     "data": {
      "image/png": "[encoded data removed]",
      "text/plain": [
       "<Figure size 432x288 with 1 Axes>"
      ]
     },
     "metadata": {},
     "output_type": "display_data"
    }
   ],
   "source": [
    "df = pd.DataFrame({'accuracy_sample 4': outputs[3, 0:10].tolist(), 'classes': ['plane', 'car', 'bird', 'cat', 'deer', 'dog', 'frog', 'horse', 'ship', 'truck'],               })\n",
    "sns.set_style('darkgrid')\n",
    "# plot the accuracy classification for each class\n",
    "sns.barplot(x ='classes', y ='accuracy_sample 4', data = df, palette ='plasma')"
   ]
  },
  {
   "cell_type": "code",
   "execution_count": 18,
   "metadata": {},
   "outputs": [
    {
     "data": {
      "text/plain": [
       "tensor([6, 5, 1, 7])"
      ]
     },
     "execution_count": 18,
     "metadata": {},
     "output_type": "execute_result"
    }
   ],
   "source": [
    "predicted"
   ]
  },
  {
   "cell_type": "code",
   "execution_count": 19,
   "metadata": {},
   "outputs": [
    {
     "data": {
      "text/plain": [
       "tensor([3, 5, 1, 7])"
      ]
     },
     "execution_count": 19,
     "metadata": {},
     "output_type": "execute_result"
    }
   ],
   "source": [
    "labels"
   ]
  },
  {
   "cell_type": "code",
   "execution_count": 20,
   "metadata": {},
   "outputs": [
    {
     "data": {
      "text/plain": [
       "10000"
      ]
     },
     "execution_count": 20,
     "metadata": {},
     "output_type": "execute_result"
    }
   ],
   "source": [
    "n_samples"
   ]
  },
  {
   "cell_type": "code",
   "execution_count": 21,
   "metadata": {},
   "outputs": [
    {
     "data": {
      "text/plain": [
       "4971"
      ]
     },
     "execution_count": 21,
     "metadata": {},
     "output_type": "execute_result"
    }
   ],
   "source": [
    "n_correct"
   ]
  },
  {
   "cell_type": "code",
   "execution_count": 22,
   "metadata": {},
   "outputs": [
    {
     "name": "stdout",
     "output_type": "stream",
     "text": [
      "The accuracy classification of the network is: 49.71\n"
     ]
    }
   ],
   "source": [
    "acc = 100.0 * n_correct / n_samples # calculate the accuracy classification of the network\n",
    "print('The accuracy classification of the network is:', acc)"
   ]
  },
  {
   "cell_type": "code",
   "execution_count": 23,
   "metadata": {},
   "outputs": [
    {
     "name": "stdout",
     "output_type": "stream",
     "text": [
      "Accuracy of plane: 57.0 %\n",
      "Accuracy of car: 66.3 %\n",
      "Accuracy of bird: 26.9 %\n",
      "Accuracy of cat: 30.4 %\n",
      "Accuracy of deer: 45.8 %\n",
      "Accuracy of dog: 34.7 %\n",
      "Accuracy of frog: 64.0 %\n",
      "Accuracy of horse: 56.9 %\n",
      "Accuracy of ship: 58.9 %\n",
      "Accuracy of truck: 56.2 %\n"
     ]
    }
   ],
   "source": [
    "list_class = []\n",
    "for i in range(10): # calculate the accuracy classification for each class\n",
    "    acc = 100.0 * n_class_correct[i] / n_class_samples[i] \n",
    "    list_class.append(acc)\n",
    "    print(f'Accuracy of {classes[i]}: {acc} %')"
   ]
  },
  {
   "cell_type": "code",
   "execution_count": 24,
   "metadata": {},
   "outputs": [
    {
     "data": {
      "text/plain": [
       "[57.0, 66.3, 26.9, 30.4, 45.8, 34.7, 64.0, 56.9, 58.9, 56.2]"
      ]
     },
     "execution_count": 24,
     "metadata": {},
     "output_type": "execute_result"
    }
   ],
   "source": [
    "list_class"
   ]
  },
  {
   "cell_type": "code",
   "execution_count": 25,
   "metadata": {},
   "outputs": [
    {
     "data": {
      "text/plain": [
       "<matplotlib.axes._subplots.AxesSubplot at 0x121bd7090>"
      ]
     },
     "execution_count": 25,
     "metadata": {},
     "output_type": "execute_result"
    },
    {
     "data": {
      "image/png": "[encoded data removed]",
      "text/plain": [
       "<Figure size 432x288 with 1 Axes>"
      ]
     },
     "metadata": {},
     "output_type": "display_data"
    }
   ],
   "source": [
    "df = pd.DataFrame({'accuracy': [42.6, 49.9, 25.7, 40.9, 34.8, 26.7, 57.6, 62.6, 68.2, 66.4], 'classes': ['plane', 'car', 'bird', 'cat', 'deer', 'dog', 'frog', 'horse', 'ship', 'truck'],               })\n",
    "sns.set_style('darkgrid')\n",
    "# plot the accuracy classification for each class\n",
    "sns.barplot(x ='classes', y ='accuracy', data = df, palette ='plasma')"
   ]
  },
  {
   "cell_type": "markdown",
   "metadata": {},
   "source": [
    "The classes that performed well are: car, ship, frog, plane and horse (choose a threshold rate equal to 0.5).\n",
    "For the classes that did not perform well are: bird, cat, deer, dog and truck."
   ]
  },
  {
   "cell_type": "markdown",
   "metadata": {},
   "source": [
    "Thanks!"
   ]
  }
 ],
 "metadata": {
  "kernelspec": {
   "display_name": "Python 3",
   "language": "python",
   "name": "python3"
  },
  "language_info": {
   "codemirror_mode": {
    "name": "ipython",
    "version": 3
   },
   "file_extension": ".py",
   "mimetype": "text/x-python",
   "name": "python",
   "nbconvert_exporter": "python",
   "pygments_lexer": "ipython3",
   "version": "3.7.4"
  }
 },
 "nbformat": 4,
 "nbformat_minor": 4
}
